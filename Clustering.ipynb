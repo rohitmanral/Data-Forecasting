{
 "cells": [
  {
   "cell_type": "markdown",
   "metadata": {},
   "source": [
    "## > Measuring similarity or distance\n",
    "## > Data normalisation\n",
    "## > Unsupervised learning: clustering\n",
    "###          >Simple Example 1 of K-means Clustering\n",
    "###          >Simple Example 2 of K-means Clustering\n",
    "## > Text as Data"
   ]
  },
  {
   "cell_type": "code",
   "execution_count": 1,
   "metadata": {},
   "outputs": [],
   "source": [
    "import pandas as pd\n",
    "import numpy as np\n",
    "import matplotlib.pylab as plt\n",
    "import seaborn as sns\n",
    "%matplotlib inline"
   ]
  },
  {
   "cell_type": "markdown",
   "metadata": {},
   "source": [
    "## Measuring Similarity\n",
    "* In order to find clusters in a data set we need to have some way of telling how similar two observations are to each other.\n",
    "* A cluster is a grouping of samples that are more similar to each other than they are to the samples in another cluster.\n",
    "* The first step in understanding clustering is understanding how to measure similarity.\n",
    "\n",
    "## Similarity and Distance\n",
    "* The key to understanding similarity metrics is to think about measuring distance in the real world. When we graph a two dimensional data set, we get a layout of points on the plane. From this it is easy to see when two points are similar - they are close to each other on the graph.\n",
    "* In two dimensions, we can measure the distance between the points  (x1,y1) and  (x2,y2) using Pythagoras Theorem."
   ]
  },
  {
   "cell_type": "markdown",
   "metadata": {},
   "source": [
    "Let's look at some data for describing cars and their MPG ragings:"
   ]
  },
  {
   "cell_type": "code",
   "execution_count": 2,
   "metadata": {},
   "outputs": [
    {
     "data": {
      "text/html": [
       "<div>\n",
       "<style scoped>\n",
       "    .dataframe tbody tr th:only-of-type {\n",
       "        vertical-align: middle;\n",
       "    }\n",
       "\n",
       "    .dataframe tbody tr th {\n",
       "        vertical-align: top;\n",
       "    }\n",
       "\n",
       "    .dataframe thead th {\n",
       "        text-align: right;\n",
       "    }\n",
       "</style>\n",
       "<table border=\"1\" class=\"dataframe\">\n",
       "  <thead>\n",
       "    <tr style=\"text-align: right;\">\n",
       "      <th></th>\n",
       "      <th>mpg</th>\n",
       "      <th>cylinders</th>\n",
       "      <th>displacement</th>\n",
       "      <th>horsepower</th>\n",
       "      <th>weight</th>\n",
       "      <th>acceleration</th>\n",
       "      <th>year</th>\n",
       "      <th>origin</th>\n",
       "      <th>name</th>\n",
       "    </tr>\n",
       "  </thead>\n",
       "  <tbody>\n",
       "    <tr>\n",
       "      <th>0</th>\n",
       "      <td>18.0</td>\n",
       "      <td>8</td>\n",
       "      <td>307.0</td>\n",
       "      <td>130.0</td>\n",
       "      <td>3504.0</td>\n",
       "      <td>12.0</td>\n",
       "      <td>70</td>\n",
       "      <td>1</td>\n",
       "      <td>chevrolet chevelle malibu</td>\n",
       "    </tr>\n",
       "    <tr>\n",
       "      <th>1</th>\n",
       "      <td>15.0</td>\n",
       "      <td>8</td>\n",
       "      <td>350.0</td>\n",
       "      <td>165.0</td>\n",
       "      <td>3693.0</td>\n",
       "      <td>11.5</td>\n",
       "      <td>70</td>\n",
       "      <td>1</td>\n",
       "      <td>buick skylark 320</td>\n",
       "    </tr>\n",
       "    <tr>\n",
       "      <th>2</th>\n",
       "      <td>18.0</td>\n",
       "      <td>8</td>\n",
       "      <td>318.0</td>\n",
       "      <td>150.0</td>\n",
       "      <td>3436.0</td>\n",
       "      <td>11.0</td>\n",
       "      <td>70</td>\n",
       "      <td>1</td>\n",
       "      <td>plymouth satellite</td>\n",
       "    </tr>\n",
       "    <tr>\n",
       "      <th>3</th>\n",
       "      <td>16.0</td>\n",
       "      <td>8</td>\n",
       "      <td>304.0</td>\n",
       "      <td>150.0</td>\n",
       "      <td>3433.0</td>\n",
       "      <td>12.0</td>\n",
       "      <td>70</td>\n",
       "      <td>1</td>\n",
       "      <td>amc rebel sst</td>\n",
       "    </tr>\n",
       "    <tr>\n",
       "      <th>4</th>\n",
       "      <td>17.0</td>\n",
       "      <td>8</td>\n",
       "      <td>302.0</td>\n",
       "      <td>140.0</td>\n",
       "      <td>3449.0</td>\n",
       "      <td>10.5</td>\n",
       "      <td>70</td>\n",
       "      <td>1</td>\n",
       "      <td>ford torino</td>\n",
       "    </tr>\n",
       "  </tbody>\n",
       "</table>\n",
       "</div>"
      ],
      "text/plain": [
       "    mpg  cylinders  displacement  horsepower  weight  acceleration  year  \\\n",
       "0  18.0          8         307.0       130.0  3504.0          12.0    70   \n",
       "1  15.0          8         350.0       165.0  3693.0          11.5    70   \n",
       "2  18.0          8         318.0       150.0  3436.0          11.0    70   \n",
       "3  16.0          8         304.0       150.0  3433.0          12.0    70   \n",
       "4  17.0          8         302.0       140.0  3449.0          10.5    70   \n",
       "\n",
       "   origin                       name  \n",
       "0       1  chevrolet chevelle malibu  \n",
       "1       1          buick skylark 320  \n",
       "2       1         plymouth satellite  \n",
       "3       1              amc rebel sst  \n",
       "4       1                ford torino  "
      ]
     },
     "execution_count": 2,
     "metadata": {},
     "output_type": "execute_result"
    }
   ],
   "source": [
    "names = ['mpg', 'cylinders', 'displacement', 'horsepower', 'weight', 'acceleration', 'year', 'origin', 'name']\n",
    "autompg = pd.read_csv('auto-mpg.data', delim_whitespace=True, names=names)\n",
    "autompg.head()"
   ]
  },
  {
   "cell_type": "markdown",
   "metadata": {},
   "source": [
    "We could ask which is more similar to the \"chevrolet chevelle malibu\" - the \"buick skylark 320\" or the \"plymouth satellite\"?"
   ]
  },
  {
   "cell_type": "code",
   "execution_count": 3,
   "metadata": {},
   "outputs": [
    {
     "data": {
      "text/plain": [
       "mpg               3.0\n",
       "cylinders         0.0\n",
       "displacement    -43.0\n",
       "horsepower      -35.0\n",
       "weight         -189.0\n",
       "acceleration      0.5\n",
       "year              0.0\n",
       "origin            0.0\n",
       "dtype: float64"
      ]
     },
     "execution_count": 3,
     "metadata": {},
     "output_type": "execute_result"
    }
   ],
   "source": [
    "# drop the name so that we just have the numerical columns\n",
    "autompgN = autompg.drop('name', axis=1)\n",
    "\n",
    "A = autompgN.loc[0]\n",
    "B = autompgN.loc[1]\n",
    "C = autompgN.loc[2]\n",
    "\n",
    "# simple subtraction of two Series shows the difference\n",
    "A-B"
   ]
  },
  {
   "cell_type": "code",
   "execution_count": 4,
   "metadata": {},
   "outputs": [
    {
     "data": {
      "text/plain": [
       "196.98794379352256"
      ]
     },
     "execution_count": 4,
     "metadata": {},
     "output_type": "execute_result"
    }
   ],
   "source": [
    "# compute the sum of squares and take the square root\n",
    "np.sqrt(np.square(A-B).sum()) "
   ]
  },
  {
   "cell_type": "code",
   "execution_count": 5,
   "metadata": {},
   "outputs": [
    {
     "data": {
      "text/plain": [
       "71.73562573784382"
      ]
     },
     "execution_count": 5,
     "metadata": {},
     "output_type": "execute_result"
    }
   ],
   "source": [
    "np.sqrt(np.square(A-C).sum())"
   ]
  },
  {
   "cell_type": "markdown",
   "metadata": {},
   "source": [
    "Therefore, \"plymouth satellite\" (C) is more similar to the \"chevrolet chevelle malibu\"(A) as compared to \"buick skylark 320\"(B)."
   ]
  },
  {
   "cell_type": "markdown",
   "metadata": {},
   "source": [
    "## Problem due to Unnormalised Variables\n",
    "* In this case, the units of each variable are quite different\n",
    "         cylinders varies from 3 to 8\n",
    "         displacement from 68 to 455\n",
    "         weight from 1613 to 5140\n",
    "* this means that a difference in weight would dominate the other variables\n",
    "* solution is to normalise the data"
   ]
  },
  {
   "cell_type": "code",
   "execution_count": 6,
   "metadata": {},
   "outputs": [
    {
     "data": {
      "text/plain": [
       "<matplotlib.axes._subplots.AxesSubplot at 0x1a24468e48>"
      ]
     },
     "execution_count": 6,
     "metadata": {},
     "output_type": "execute_result"
    },
    {
     "data": {
      "image/png": "[encoded data removed]",
      "text/plain": [
       "<Figure size 432x288 with 1 Axes>"
      ]
     },
     "metadata": {
      "needs_background": "light"
     },
     "output_type": "display_data"
    }
   ],
   "source": [
    "autompg.plot('cylinders', 'displacement', 'scatter')"
   ]
  },
  {
   "cell_type": "code",
   "execution_count": 7,
   "metadata": {},
   "outputs": [
    {
     "data": {
      "text/plain": [
       "(0, 450)"
      ]
     },
     "execution_count": 7,
     "metadata": {},
     "output_type": "execute_result"
    },
    {
     "data": {
      "image/png": "[encoded data removed]",
      "text/plain": [
       "<Figure size 432x288 with 1 Axes>"
      ]
     },
     "metadata": {
      "needs_background": "light"
     },
     "output_type": "display_data"
    }
   ],
   "source": [
    "# plot again on equally spaced axes\n",
    "autompg.plot('cylinders', 'displacement', 'scatter')\n",
    "plt.ylim(0,450)\n",
    "plt.xlim(0,450)"
   ]
  },
  {
   "cell_type": "markdown",
   "metadata": {},
   "source": [
    "## Normalising Variables\n",
    "* normalise to make the mean and standard deviation the same for every variable\n",
    "* for each column:\n",
    "         subtract the mean\n",
    "         divide by the standard deviation\n",
    "* result is data with mean of 0, std of 1.0"
   ]
  },
  {
   "cell_type": "code",
   "execution_count": 8,
   "metadata": {},
   "outputs": [
    {
     "data": {
      "text/plain": [
       "(-1, 1)"
      ]
     },
     "execution_count": 8,
     "metadata": {},
     "output_type": "execute_result"
    },
    {
     "data": {
      "image/png": "[encoded data removed]",
      "text/plain": [
       "<Figure size 432x288 with 1 Axes>"
      ]
     },
     "metadata": {
      "needs_background": "light"
     },
     "output_type": "display_data"
    }
   ],
   "source": [
    "# subtract the mean, divide by the standard deviation\n",
    "autompg_norm = (autompgN-autompgN.mean())/autompgN.std()\n",
    "autompg_norm.plot('cylinders', 'displacement', 'scatter')\n",
    "plt.ylim(-1,1)\n",
    "plt.xlim(-1,1) "
   ]
  },
  {
   "cell_type": "code",
   "execution_count": 9,
   "metadata": {},
   "outputs": [
    {
     "name": "stdout",
     "output_type": "stream",
     "text": [
      "Without normalisation:\n",
      "A -> B 196.98794379352256\n",
      "A -> C 71.73562573784382\n",
      "With normalisation:\n",
      "A -> B 1.107146840365627\n",
      "A -> C 0.6471676014562091\n"
     ]
    }
   ],
   "source": [
    "print(\"Without normalisation:\")\n",
    "print(\"A -> B\", np.sqrt(np.square(autompgN.iloc[0]-autompgN.iloc[1]).sum()))\n",
    "print(\"A -> C\", np.sqrt(np.square(autompgN.iloc[0]-autompgN.iloc[2]).sum()))\n",
    "print(\"With normalisation:\")\n",
    "print(\"A -> B\", np.sqrt(np.square(autompg_norm.iloc[0]-autompg_norm.iloc[1]).sum()))\n",
    "print(\"A -> C\", np.sqrt(np.square(autompg_norm.iloc[0]-autompg_norm.iloc[2]).sum()))"
   ]
  },
  {
   "cell_type": "markdown",
   "metadata": {},
   "source": [
    "# Clustering\n",
    "\n",
    "Now that we can measure whether two samples are similar or different, we can begin to look at clustering. There are two main families of clustering method:\n",
    "* Partitional Algorithms\n",
    "* Hierarchical Algorithms\n",
    "\n",
    "Clustering is an example of unsupervised learning. Compared with linear/logistic regression (which are supervised) - to train those models we need to provide the true category labels to the training algorithm so that it can learn how to categorise the data.\n",
    "\n",
    "Clustering can be used in cases where regression cannot. If we don't have any true labels for the data, we can still use clustering to see if there are any natural groups in the data. This can be a really useful data exploration technique.\n",
    "\n",
    "## Partitional algorithms\n",
    "\n",
    "Start with a random partition (split) of the data and try to refine it iteratively so that the partitions are better. They usually require that you nominate a fixed number of clusters to look for.\n",
    "\n",
    "## Hierarchical algorithms\n",
    "\n",
    "Organise the data into hierarchical (tree-like) structures where the most similar samples are grouped together, then similar groups are joined etc. This might be done **bottom-up** or **top-down**. The end result is a tree-like structure and these methods can be used when you don't know how many clusters there should be in the data.\n",
    "\n",
    "## KMeans Clustering\n",
    "\n",
    "The basic algorithm is:\n",
    "\n",
    "  1. start with K randomly placed cluster centroids\n",
    "  2. for each data point, assign it to the closest cluster centroid\n",
    "  3. re-estimate the cluster centroids for each cluster based on the data points that belong to it\n",
    "  4. if the centroid estimate has not changed significantly, stop, otherwise repeat from step 2.\n",
    "  \n",
    "  ## Method Used\n",
    "\n",
    "K Means Clustering is an unsupervised learning algorithm that tries to cluster data based on their similarity. Unsupervised learning means that there is no outcome to be predicted, and the algorithm just tries to find patterns in the data. In k means clustering, we have the specify the number of clusters we want the data to be grouped into. The algorithm randomly assigns each observation to a cluster, and finds the centroid of each cluster. Then, the algorithm iterates through two steps:\n",
    "Reassign data points to the cluster whose centroid is closest. Calculate new centroid of each cluster. These two steps are repeated till the within cluster variation cannot be reduced any further. The within cluster variation is calculated as the sum of the euclidean distance between the data points and their respective cluster centroids."
   ]
  },
  {
   "cell_type": "code",
   "execution_count": 10,
   "metadata": {},
   "outputs": [
    {
     "data": {
      "text/plain": [
       "<seaborn.axisgrid.FacetGrid at 0x1a25f54630>"
      ]
     },
     "execution_count": 10,
     "metadata": {},
     "output_type": "execute_result"
    },
    {
     "data": {
      "image/png": "[encoded data removed]",
      "text/plain": [
       "<Figure size 474.375x432 with 1 Axes>"
      ]
     },
     "metadata": {
      "needs_background": "light"
     },
     "output_type": "display_data"
    }
   ],
   "source": [
    "from sklearn.cluster import KMeans\n",
    "# work on a copy of just a couple of variables\n",
    "df = autompg_norm[['weight', 'cylinders']].copy()\n",
    "\n",
    "kmeans = KMeans(n_clusters=3)\n",
    "kmeans.fit(df)\n",
    "df['label'] = kmeans.predict(df)\n",
    "sns.lmplot(\"weight\", \"cylinders\", data=df, fit_reg=False, hue='label', height=6)"
   ]
  },
  {
   "cell_type": "code",
   "execution_count": 11,
   "metadata": {},
   "outputs": [
    {
     "data": {
      "text/html": [
       "<div>\n",
       "<style scoped>\n",
       "    .dataframe tbody tr th:only-of-type {\n",
       "        vertical-align: middle;\n",
       "    }\n",
       "\n",
       "    .dataframe tbody tr th {\n",
       "        vertical-align: top;\n",
       "    }\n",
       "\n",
       "    .dataframe thead th {\n",
       "        text-align: right;\n",
       "    }\n",
       "</style>\n",
       "<table border=\"1\" class=\"dataframe\">\n",
       "  <thead>\n",
       "    <tr style=\"text-align: right;\">\n",
       "      <th></th>\n",
       "      <th>weight</th>\n",
       "      <th>cylinders</th>\n",
       "      <th>label</th>\n",
       "    </tr>\n",
       "  </thead>\n",
       "  <tbody>\n",
       "    <tr>\n",
       "      <th>0</th>\n",
       "      <td>0.619748</td>\n",
       "      <td>1.482053</td>\n",
       "      <td>1</td>\n",
       "    </tr>\n",
       "    <tr>\n",
       "      <th>1</th>\n",
       "      <td>0.842258</td>\n",
       "      <td>1.482053</td>\n",
       "      <td>1</td>\n",
       "    </tr>\n",
       "    <tr>\n",
       "      <th>2</th>\n",
       "      <td>0.539692</td>\n",
       "      <td>1.482053</td>\n",
       "      <td>1</td>\n",
       "    </tr>\n",
       "    <tr>\n",
       "      <th>3</th>\n",
       "      <td>0.536160</td>\n",
       "      <td>1.482053</td>\n",
       "      <td>1</td>\n",
       "    </tr>\n",
       "    <tr>\n",
       "      <th>4</th>\n",
       "      <td>0.554997</td>\n",
       "      <td>1.482053</td>\n",
       "      <td>1</td>\n",
       "    </tr>\n",
       "  </tbody>\n",
       "</table>\n",
       "</div>"
      ],
      "text/plain": [
       "     weight  cylinders  label\n",
       "0  0.619748   1.482053      1\n",
       "1  0.842258   1.482053      1\n",
       "2  0.539692   1.482053      1\n",
       "3  0.536160   1.482053      1\n",
       "4  0.554997   1.482053      1"
      ]
     },
     "execution_count": 11,
     "metadata": {},
     "output_type": "execute_result"
    }
   ],
   "source": [
    "df.head()"
   ]
  },
  {
   "cell_type": "code",
   "execution_count": 12,
   "metadata": {},
   "outputs": [
    {
     "data": {
      "text/html": [
       "<div>\n",
       "<style scoped>\n",
       "    .dataframe tbody tr th:only-of-type {\n",
       "        vertical-align: middle;\n",
       "    }\n",
       "\n",
       "    .dataframe tbody tr th {\n",
       "        vertical-align: top;\n",
       "    }\n",
       "\n",
       "    .dataframe thead th {\n",
       "        text-align: right;\n",
       "    }\n",
       "</style>\n",
       "<table border=\"1\" class=\"dataframe\">\n",
       "  <thead>\n",
       "    <tr style=\"text-align: right;\">\n",
       "      <th></th>\n",
       "      <th>mpg</th>\n",
       "      <th>cylinders</th>\n",
       "      <th>displacement</th>\n",
       "      <th>horsepower</th>\n",
       "      <th>weight</th>\n",
       "      <th>acceleration</th>\n",
       "      <th>year</th>\n",
       "      <th>origin</th>\n",
       "      <th>name</th>\n",
       "    </tr>\n",
       "  </thead>\n",
       "  <tbody>\n",
       "    <tr>\n",
       "      <th>0</th>\n",
       "      <td>18.0</td>\n",
       "      <td>8</td>\n",
       "      <td>307.0</td>\n",
       "      <td>130.0</td>\n",
       "      <td>3504.0</td>\n",
       "      <td>12.0</td>\n",
       "      <td>70</td>\n",
       "      <td>1</td>\n",
       "      <td>chevrolet chevelle malibu</td>\n",
       "    </tr>\n",
       "    <tr>\n",
       "      <th>1</th>\n",
       "      <td>15.0</td>\n",
       "      <td>8</td>\n",
       "      <td>350.0</td>\n",
       "      <td>165.0</td>\n",
       "      <td>3693.0</td>\n",
       "      <td>11.5</td>\n",
       "      <td>70</td>\n",
       "      <td>1</td>\n",
       "      <td>buick skylark 320</td>\n",
       "    </tr>\n",
       "    <tr>\n",
       "      <th>2</th>\n",
       "      <td>18.0</td>\n",
       "      <td>8</td>\n",
       "      <td>318.0</td>\n",
       "      <td>150.0</td>\n",
       "      <td>3436.0</td>\n",
       "      <td>11.0</td>\n",
       "      <td>70</td>\n",
       "      <td>1</td>\n",
       "      <td>plymouth satellite</td>\n",
       "    </tr>\n",
       "    <tr>\n",
       "      <th>3</th>\n",
       "      <td>16.0</td>\n",
       "      <td>8</td>\n",
       "      <td>304.0</td>\n",
       "      <td>150.0</td>\n",
       "      <td>3433.0</td>\n",
       "      <td>12.0</td>\n",
       "      <td>70</td>\n",
       "      <td>1</td>\n",
       "      <td>amc rebel sst</td>\n",
       "    </tr>\n",
       "    <tr>\n",
       "      <th>4</th>\n",
       "      <td>17.0</td>\n",
       "      <td>8</td>\n",
       "      <td>302.0</td>\n",
       "      <td>140.0</td>\n",
       "      <td>3449.0</td>\n",
       "      <td>10.5</td>\n",
       "      <td>70</td>\n",
       "      <td>1</td>\n",
       "      <td>ford torino</td>\n",
       "    </tr>\n",
       "  </tbody>\n",
       "</table>\n",
       "</div>"
      ],
      "text/plain": [
       "    mpg  cylinders  displacement  horsepower  weight  acceleration  year  \\\n",
       "0  18.0          8         307.0       130.0  3504.0          12.0    70   \n",
       "1  15.0          8         350.0       165.0  3693.0          11.5    70   \n",
       "2  18.0          8         318.0       150.0  3436.0          11.0    70   \n",
       "3  16.0          8         304.0       150.0  3433.0          12.0    70   \n",
       "4  17.0          8         302.0       140.0  3449.0          10.5    70   \n",
       "\n",
       "   origin                       name  \n",
       "0       1  chevrolet chevelle malibu  \n",
       "1       1          buick skylark 320  \n",
       "2       1         plymouth satellite  \n",
       "3       1              amc rebel sst  \n",
       "4       1                ford torino  "
      ]
     },
     "execution_count": 12,
     "metadata": {},
     "output_type": "execute_result"
    }
   ],
   "source": [
    "# what are the clusters? \n",
    "autompg[ df['label'] == 1].head() # Or autompg[ df['label'] == 1][['name', 'weight', 'cylinders']].head()"
   ]
  },
  {
   "cell_type": "code",
   "execution_count": 13,
   "metadata": {
    "scrolled": true
   },
   "outputs": [
    {
     "data": {
      "text/html": [
       "<div>\n",
       "<style scoped>\n",
       "    .dataframe tbody tr th:only-of-type {\n",
       "        vertical-align: middle;\n",
       "    }\n",
       "\n",
       "    .dataframe tbody tr th {\n",
       "        vertical-align: top;\n",
       "    }\n",
       "\n",
       "    .dataframe thead th {\n",
       "        text-align: right;\n",
       "    }\n",
       "</style>\n",
       "<table border=\"1\" class=\"dataframe\">\n",
       "  <thead>\n",
       "    <tr style=\"text-align: right;\">\n",
       "      <th></th>\n",
       "      <th>mpg</th>\n",
       "      <th>cylinders</th>\n",
       "      <th>displacement</th>\n",
       "      <th>horsepower</th>\n",
       "      <th>weight</th>\n",
       "      <th>acceleration</th>\n",
       "      <th>year</th>\n",
       "      <th>origin</th>\n",
       "      <th>name</th>\n",
       "    </tr>\n",
       "  </thead>\n",
       "  <tbody>\n",
       "    <tr>\n",
       "      <th>14</th>\n",
       "      <td>24.0</td>\n",
       "      <td>4</td>\n",
       "      <td>113.0</td>\n",
       "      <td>95.0</td>\n",
       "      <td>2372.0</td>\n",
       "      <td>15.0</td>\n",
       "      <td>70</td>\n",
       "      <td>3</td>\n",
       "      <td>toyota corona mark ii</td>\n",
       "    </tr>\n",
       "    <tr>\n",
       "      <th>18</th>\n",
       "      <td>27.0</td>\n",
       "      <td>4</td>\n",
       "      <td>97.0</td>\n",
       "      <td>88.0</td>\n",
       "      <td>2130.0</td>\n",
       "      <td>14.5</td>\n",
       "      <td>70</td>\n",
       "      <td>3</td>\n",
       "      <td>datsun pl510</td>\n",
       "    </tr>\n",
       "    <tr>\n",
       "      <th>19</th>\n",
       "      <td>26.0</td>\n",
       "      <td>4</td>\n",
       "      <td>97.0</td>\n",
       "      <td>46.0</td>\n",
       "      <td>1835.0</td>\n",
       "      <td>20.5</td>\n",
       "      <td>70</td>\n",
       "      <td>2</td>\n",
       "      <td>volkswagen 1131 deluxe sedan</td>\n",
       "    </tr>\n",
       "    <tr>\n",
       "      <th>20</th>\n",
       "      <td>25.0</td>\n",
       "      <td>4</td>\n",
       "      <td>110.0</td>\n",
       "      <td>87.0</td>\n",
       "      <td>2672.0</td>\n",
       "      <td>17.5</td>\n",
       "      <td>70</td>\n",
       "      <td>2</td>\n",
       "      <td>peugeot 504</td>\n",
       "    </tr>\n",
       "    <tr>\n",
       "      <th>21</th>\n",
       "      <td>24.0</td>\n",
       "      <td>4</td>\n",
       "      <td>107.0</td>\n",
       "      <td>90.0</td>\n",
       "      <td>2430.0</td>\n",
       "      <td>14.5</td>\n",
       "      <td>70</td>\n",
       "      <td>2</td>\n",
       "      <td>audi 100 ls</td>\n",
       "    </tr>\n",
       "  </tbody>\n",
       "</table>\n",
       "</div>"
      ],
      "text/plain": [
       "     mpg  cylinders  displacement  horsepower  weight  acceleration  year  \\\n",
       "14  24.0          4         113.0        95.0  2372.0          15.0    70   \n",
       "18  27.0          4          97.0        88.0  2130.0          14.5    70   \n",
       "19  26.0          4          97.0        46.0  1835.0          20.5    70   \n",
       "20  25.0          4         110.0        87.0  2672.0          17.5    70   \n",
       "21  24.0          4         107.0        90.0  2430.0          14.5    70   \n",
       "\n",
       "    origin                          name  \n",
       "14       3         toyota corona mark ii  \n",
       "18       3                  datsun pl510  \n",
       "19       2  volkswagen 1131 deluxe sedan  \n",
       "20       2                   peugeot 504  \n",
       "21       2                   audi 100 ls  "
      ]
     },
     "execution_count": 13,
     "metadata": {},
     "output_type": "execute_result"
    }
   ],
   "source": [
    "autompg[ df['label'] == 0].head()"
   ]
  },
  {
   "cell_type": "code",
   "execution_count": 14,
   "metadata": {},
   "outputs": [
    {
     "data": {
      "text/html": [
       "<div>\n",
       "<style scoped>\n",
       "    .dataframe tbody tr th:only-of-type {\n",
       "        vertical-align: middle;\n",
       "    }\n",
       "\n",
       "    .dataframe tbody tr th {\n",
       "        vertical-align: top;\n",
       "    }\n",
       "\n",
       "    .dataframe thead th {\n",
       "        text-align: right;\n",
       "    }\n",
       "</style>\n",
       "<table border=\"1\" class=\"dataframe\">\n",
       "  <thead>\n",
       "    <tr style=\"text-align: right;\">\n",
       "      <th></th>\n",
       "      <th>mpg</th>\n",
       "      <th>cylinders</th>\n",
       "      <th>displacement</th>\n",
       "      <th>horsepower</th>\n",
       "      <th>weight</th>\n",
       "      <th>acceleration</th>\n",
       "      <th>year</th>\n",
       "      <th>origin</th>\n",
       "      <th>name</th>\n",
       "    </tr>\n",
       "  </thead>\n",
       "  <tbody>\n",
       "    <tr>\n",
       "      <th>13</th>\n",
       "      <td>14.0</td>\n",
       "      <td>8</td>\n",
       "      <td>455.0</td>\n",
       "      <td>225.0</td>\n",
       "      <td>3086.0</td>\n",
       "      <td>10.0</td>\n",
       "      <td>70</td>\n",
       "      <td>1</td>\n",
       "      <td>buick estate wagon (sw)</td>\n",
       "    </tr>\n",
       "    <tr>\n",
       "      <th>15</th>\n",
       "      <td>22.0</td>\n",
       "      <td>6</td>\n",
       "      <td>198.0</td>\n",
       "      <td>95.0</td>\n",
       "      <td>2833.0</td>\n",
       "      <td>15.5</td>\n",
       "      <td>70</td>\n",
       "      <td>1</td>\n",
       "      <td>plymouth duster</td>\n",
       "    </tr>\n",
       "    <tr>\n",
       "      <th>16</th>\n",
       "      <td>18.0</td>\n",
       "      <td>6</td>\n",
       "      <td>199.0</td>\n",
       "      <td>97.0</td>\n",
       "      <td>2774.0</td>\n",
       "      <td>15.5</td>\n",
       "      <td>70</td>\n",
       "      <td>1</td>\n",
       "      <td>amc hornet</td>\n",
       "    </tr>\n",
       "    <tr>\n",
       "      <th>17</th>\n",
       "      <td>21.0</td>\n",
       "      <td>6</td>\n",
       "      <td>200.0</td>\n",
       "      <td>85.0</td>\n",
       "      <td>2587.0</td>\n",
       "      <td>16.0</td>\n",
       "      <td>70</td>\n",
       "      <td>1</td>\n",
       "      <td>ford maverick</td>\n",
       "    </tr>\n",
       "    <tr>\n",
       "      <th>24</th>\n",
       "      <td>21.0</td>\n",
       "      <td>6</td>\n",
       "      <td>199.0</td>\n",
       "      <td>90.0</td>\n",
       "      <td>2648.0</td>\n",
       "      <td>15.0</td>\n",
       "      <td>70</td>\n",
       "      <td>1</td>\n",
       "      <td>amc gremlin</td>\n",
       "    </tr>\n",
       "  </tbody>\n",
       "</table>\n",
       "</div>"
      ],
      "text/plain": [
       "     mpg  cylinders  displacement  horsepower  weight  acceleration  year  \\\n",
       "13  14.0          8         455.0       225.0  3086.0          10.0    70   \n",
       "15  22.0          6         198.0        95.0  2833.0          15.5    70   \n",
       "16  18.0          6         199.0        97.0  2774.0          15.5    70   \n",
       "17  21.0          6         200.0        85.0  2587.0          16.0    70   \n",
       "24  21.0          6         199.0        90.0  2648.0          15.0    70   \n",
       "\n",
       "    origin                     name  \n",
       "13       1  buick estate wagon (sw)  \n",
       "15       1          plymouth duster  \n",
       "16       1               amc hornet  \n",
       "17       1            ford maverick  \n",
       "24       1              amc gremlin  "
      ]
     },
     "execution_count": 14,
     "metadata": {},
     "output_type": "execute_result"
    }
   ],
   "source": [
    "autompg[ df['label'] == 2].head()"
   ]
  },
  {
   "cell_type": "markdown",
   "metadata": {},
   "source": [
    "## A Simple Example 1 of K-means Clustering\n",
    "\n",
    "It is **very important to note, we actually have the labels for this data set, but we will NOT use them for the KMeans clustering algorithm, since that is an unsupervised learning algorithm.** "
   ]
  },
  {
   "cell_type": "code",
   "execution_count": 30,
   "metadata": {},
   "outputs": [
    {
     "data": {
      "image/png": "[encoded data removed]",
      "text/plain": [
       "<Figure size 432x288 with 1 Axes>"
      ]
     },
     "metadata": {
      "needs_background": "light"
     },
     "output_type": "display_data"
    },
    {
     "data": {
      "image/png": "[encoded data removed]",
      "text/plain": [
       "<Figure size 720x432 with 2 Axes>"
      ]
     },
     "metadata": {
      "needs_background": "light"
     },
     "output_type": "display_data"
    }
   ],
   "source": [
    "from sklearn.datasets import make_blobs\n",
    "\n",
    "# Create Data\n",
    "data = make_blobs(n_samples=200, n_features=2, centers=4, cluster_std=1.8,random_state=101)\n",
    "\n",
    "# Visualizing the Initial data\n",
    "plt.scatter(data[0][:,0],data[0][:,1],c=data[1], s = 20,cmap='rainbow')\n",
    "\n",
    "# Creating the Clusters\n",
    "from sklearn.cluster import KMeans\n",
    "kmeans = KMeans(n_clusters=4)\n",
    "kmeans.fit(data[0])\n",
    "kmeans.cluster_centers_\n",
    "kmeans.labels_\n",
    "\n",
    "\n",
    "\n",
    "\n",
    "\n",
    "\n",
    "\n",
    "f, (ax1, ax2) = plt.subplots(1, 2, sharey=True,figsize=(10,6))\n",
    "\n",
    "ax1.set_title('K Means')\n",
    "ax1.scatter(data[0][:,0],data[0][:,1],c=kmeans.labels_, s = 20,cmap='rainbow')\n",
    "centers = kmeans.cluster_centers_\n",
    "ax1.scatter(centers[:, 0], centers[:, 1], c = 'blue', s = 100, alpha = 0.9);\n",
    "\n",
    "\n",
    "ax2.set_title(\"Original\")\n",
    "ax2.scatter(data[0][:,0],data[0][:,1],c=data[1],s = 20,cmap='rainbow')\n",
    "centers = kmeans.cluster_centers_\n",
    "ax2.scatter(centers[:, 0], centers[:, 1], c = 'blue', s = 100, alpha = 0.9);"
   ]
  },
  {
   "cell_type": "markdown",
   "metadata": {},
   "source": [
    "You should note, the colors are meaningless in reference between the two plots."
   ]
  },
  {
   "cell_type": "markdown",
   "metadata": {},
   "source": [
    "## A Simple Example 2 of K-means Clustering\n",
    "Let us move to another example in which we are going to apply K-means clustering on simple digits dataset. K-means will try to identify similar digits without using the original label information."
   ]
  },
  {
   "cell_type": "code",
   "execution_count": 39,
   "metadata": {},
   "outputs": [
    {
     "data": {
      "image/png": "[encoded data removed]",
      "text/plain": [
       "<Figure size 576x216 with 10 Axes>"
      ]
     },
     "metadata": {},
     "output_type": "display_data"
    }
   ],
   "source": [
    "%matplotlib inline\n",
    "import matplotlib.pyplot as plt\n",
    "import seaborn as sns; sns.set()\n",
    "import numpy as np\n",
    "from sklearn.cluster import KMeans\n",
    "\n",
    "# Next, load the digit dataset from sklearn and make an object of it. We can also find number of rows and columns in this dataset as follows\n",
    "from sklearn.datasets import load_digits\n",
    "digits = load_digits()\n",
    "digits.data.shape\n",
    "# The above output shows that this dataset is having 1797 samples with 64 features.\n",
    "\n",
    "kmeans = KMeans(n_clusters = 10, random_state = 0)\n",
    "clusters = kmeans.fit_predict(digits.data)\n",
    "kmeans.cluster_centers_.shape\n",
    "# The above output shows that K-means created 10 clusters with 64 features.\n",
    "\n",
    "fig, ax = plt.subplots(2, 5, figsize=(8, 3))\n",
    "centers = kmeans.cluster_centers_.reshape(10, 8, 8)\n",
    "for axi, center in zip(ax.flat, centers):\n",
    "    axi.set(xticks=[], yticks=[])\n",
    "    axi.imshow(center, interpolation='nearest', cmap=plt.cm.binary)\n",
    "# As output, we will get following image showing clusters centers learned by k-means."
   ]
  },
  {
   "cell_type": "code",
   "execution_count": 41,
   "metadata": {},
   "outputs": [],
   "source": [
    "# The following lines of code will match the learned cluster labels with the true labels found in them −\n",
    "from scipy.stats import mode\n",
    "labels = np.zeros_like(clusters)\n",
    "for i in range(10):\n",
    "   mask = (clusters == i)\n",
    "   labels[mask] = mode(digits.target[mask])[0]"
   ]
  },
  {
   "cell_type": "code",
   "execution_count": 42,
   "metadata": {},
   "outputs": [
    {
     "data": {
      "text/plain": [
       "0.7935447968836951"
      ]
     },
     "execution_count": 42,
     "metadata": {},
     "output_type": "execute_result"
    }
   ],
   "source": [
    "# Next, we can check the accuracy as follows −\n",
    "from sklearn.metrics import accuracy_score\n",
    "accuracy_score(digits.target, labels)"
   ]
  },
  {
   "cell_type": "markdown",
   "metadata": {},
   "source": [
    "The above output shows that the accuracy is around 80%."
   ]
  },
  {
   "cell_type": "markdown",
   "metadata": {},
   "source": [
    "## Some problems with KMeans Clustering\n",
    "\n",
    "* Need to define the number of clusters\n",
    "* Initial cluster centriods are arbitrary\n",
    "     * choose K random points within the distribution\n",
    "     * choose K data points\n",
    "     * choose K data points that are maximally distinct\n",
    "* Choice of centriods can affect the outcome\n",
    "* There are variations on KMeans that give improved outcomes in some problems"
   ]
  },
  {
   "cell_type": "markdown",
   "metadata": {},
   "source": [
    "## Hierarchical Clustering\n",
    "\n",
    "KMeans is good if you know how many clusters to expect.\n",
    "\n",
    "If you don't know how many clusters there might be, **Hierarchical Clustering** may be more useful.\n",
    "\n",
    "* Bottom up clustering starts with individuals and groups the most similar together\n",
    "* Top down clustering splits the data into two groups, then four etc\n",
    "\n",
    "### Agglomorative Clustering\n",
    "\n",
    "* **Bottom up** (agglomorative) clustering is easiest to understand.\n",
    "* Use the distance metric to compute an  NxN similarity matrix containing the similarity between all pairs of items.\n",
    "* Select the closest pair of items and merge them into our first cluster of two\n",
    "* ...\n",
    "\n",
    "\n",
    "* Next we merge the next closest.\n",
    "      * This could be another two single items or\n",
    "      * it could be one item and the just created cluster of two\n",
    "* To measure the distance from the cluster we need a function that can compare clusters\n",
    "* This continues until there is just one cluster.\n",
    "\n",
    "We can visualise the clustering with a **dendrogram** -- a tree-like display of the clusters as they grow.\n",
    "\n",
    "## Distance between clusters\n",
    "\n",
    "* How do we compare cluster similarity?\n",
    "* Distance between cluster centroids\n",
    "* Distance between closest/furthest members\n",
    "* Average distance between pairs of cluster members\n",
    "* Ward's method:\n",
    "       * relative size of the summed square distances within the combined cluster\n",
    "       * merge two clusters if doing so results in the smaller summed square distances"
   ]
  },
  {
   "cell_type": "code",
   "execution_count": 31,
   "metadata": {},
   "outputs": [],
   "source": [
    "from scipy.cluster.hierarchy import linkage, dendrogram, cut_tree\n",
    "from scipy.spatial.distance import pdist\n",
    "\n",
    "# work on a copy of just a couple of variables\n",
    "df = autompg_norm[['weight', 'cylinders']].copy()\n",
    "\n",
    "# compute the distance matrix\n",
    "dist = pdist(df, 'euclidean')\n",
    "linkage_matrix = linkage(dist,method = 'ward')  # or 'ward'"
   ]
  },
  {
   "cell_type": "code",
   "execution_count": 32,
   "metadata": {},
   "outputs": [
    {
     "data": {
      "image/png": "[encoded data removed]",
      "text/plain": [
       "<Figure size 1080x504 with 1 Axes>"
      ]
     },
     "metadata": {
      "needs_background": "light"
     },
     "output_type": "display_data"
    }
   ],
   "source": [
    "plt.figure(figsize=(15,7))\n",
    "dendrogram(linkage_matrix)\n",
    "plt.show()"
   ]
  },
  {
   "cell_type": "markdown",
   "metadata": {},
   "source": [
    "### Dendograms\n",
    "\n",
    "* Tree display of clusters\n",
    "* Hieght of lines proportional to the distance between sub-clusters\n",
    "* So, shorter lines means more similar within-clusters\n",
    "* To choose how many 'natural' clusters, look for change from short to long lines\n",
    "* Cut the tree at a specific number of clusters or tree height"
   ]
  },
  {
   "cell_type": "code",
   "execution_count": 33,
   "metadata": {},
   "outputs": [
    {
     "data": {
      "image/png": "[encoded data removed]",
      "text/plain": [
       "<Figure size 402.375x360 with 1 Axes>"
      ]
     },
     "metadata": {
      "needs_background": "light"
     },
     "output_type": "display_data"
    }
   ],
   "source": [
    "# get a fixed number of clusters using the cut_tree function\n",
    "labels = cut_tree(linkage_matrix, n_clusters=5)\n",
    "df['label'] = labels\n",
    "_p = sns.lmplot(\"weight\", \"cylinders\", data=df, fit_reg=False, hue='label')"
   ]
  },
  {
   "cell_type": "markdown",
   "metadata": {},
   "source": [
    "## Text As Data -- Feature Extraction\n",
    "\n",
    "How do we work with text as a data source in Data Science?\n",
    "\n",
    "* text is unstructured data, compared with tabular data which has a fixed structure\n",
    "* the information stored in text is encoded in human language, which has complex rules and is hard to understand with a machine\n",
    "* but, we can take advantage of our knowledge of language to find some useful features to work with\n",
    "* the first step in working with text is usually feature extraction where we derive some features from each text\n",
    "\n",
    "### Feature Extraction\n",
    "\n",
    "So far most of the data we've worked with has been observations of some real world event or object. Things are recorded or measured and written down. The **age** of a person, their **height, weight, the size** of a car engine etc. The feature extraction process is a physical one.\n",
    "\n",
    "With text (or other digital objects like images, speech or video) we need to process the digital object to create the features we will use to analyse them. We need to extract structured data from the unstructured text so that we can use the analysis algorithms we know about.\n",
    "\n",
    "### Measuring text\n",
    "\n",
    "* number of characters, words, sentences (but what is a word/sentence)?\n",
    "* presence or absence of certain key words\n",
    "* frequence of certain key words\n",
    "* presence of hashtags/mentions in tweets\n",
    "* look for place names in text and convert to a geo-location\n",
    "* look for dollar amounts in text\n",
    "* determine the sentiment of a text - numerical scale negative-neutral-positive\n",
    "\n",
    "### Bag of Words\n",
    "\n",
    "* One way to represent a text is as a bag of words\n",
    "* Basically the set of words in the text, ignoring ordering\n",
    "* \"cat ate mouse\" is the same as \"mouse ate cat\"\n",
    "* but, very effective for many tasks\n",
    "* how do we turn this into a numerical vector?\n",
    "\n",
    "### Word Vector\n",
    "\n",
    "* Select the N most frequent words in your data\n",
    "* Each word becomes a feature\n",
    "* Feature value is either 0/1 or a count of frequency"
   ]
  },
  {
   "cell_type": "code",
   "execution_count": 4,
   "metadata": {},
   "outputs": [
    {
     "name": "stdout",
     "output_type": "stream",
     "text": [
      "COMP111 - Introduction to Video Games\n",
      "COMP115 - Introduction to Computer Programming\n",
      "COMP125 - Fundamentals of Computer Science\n",
      "COMP188 - Enrichment Topics in Computing\n",
      "COMP202 - Systems Programming\n",
      "COMP225 - Algorithms and Data Structures\n",
      "COMP229 - Object Oriented Programming Practices\n",
      "COMP247 - Data Communications\n",
      "COMP249 - Web Technology\n",
      "COMP255 - Software Engineering\n",
      "COMP257 - Data Science\n",
      "COMP260 - Game Design\n",
      "COMP329 - Artificial Intelligence\n",
      "COMP330 - Computer Graphics\n",
      "COMP332 - Programming Languages\n",
      "COMP333 - Algorithm Theory and Design\n",
      "COMP335 - Distributed Systems\n",
      "COMP336 - Big Data\n",
      "COMP343 - Cryptography and Information Security\n",
      "COMP344 - E Commerce Technology\n",
      "COMP347 - Computer Networks\n",
      "COMP348 - Document Processing and the Semantic Web\n",
      "COMP350 - Special Topics in Computing and Information Systems\n",
      "COMP352 - Videogames Project\n",
      "COMP353 - Research Topic in Computing and Information Systems\n",
      "COMP355 - Information Technology Project\n",
      "COMP356 - Web Design and Development Project\n",
      "COMP365 - Systems Engineering Project\n",
      "COMP388 - Advanced Topics in Computing and Information Systems\n",
      "COMP410 - Software Engineering Research Thesis A\n",
      "COMP420 - Software Engineering Research Thesis B\n",
      "COMP430 - Software Engineering Practices\n",
      "COMP434 - Advanced Software Engineering\n",
      "ISYS100 - IT & Society\n",
      "ISYS104 - Introduction to Business Information Systems\n",
      "ISYS114 - Introduction to Database Design and Management\n",
      "ISYS200 - IT and the Future of Society\n",
      "ISYS224 - Database Systems\n",
      "ISYS254 - Applications Modelling and Development\n",
      "ISYS301 - Enterprise Systems Integration\n",
      "ISYS302 - Management of IT Systems and Projects\n",
      "ISYS355 - Information Systems Project\n",
      "ISYS358 - Computing Industry Project\n",
      "ISYS360 - Technology Management\n",
      "\n"
     ]
    }
   ],
   "source": [
    "f=open(\"coursenames.txt\", \"r\") # reading and printing the text file\n",
    "if f.mode == 'r':\n",
    "    contents =f.read()\n",
    "print(contents)"
   ]
  },
  {
   "cell_type": "code",
   "execution_count": 45,
   "metadata": {},
   "outputs": [
    {
     "data": {
      "text/html": [
       "<div>\n",
       "<style scoped>\n",
       "    .dataframe tbody tr th:only-of-type {\n",
       "        vertical-align: middle;\n",
       "    }\n",
       "\n",
       "    .dataframe tbody tr th {\n",
       "        vertical-align: top;\n",
       "    }\n",
       "\n",
       "    .dataframe thead th {\n",
       "        text-align: right;\n",
       "    }\n",
       "</style>\n",
       "<table border=\"1\" class=\"dataframe\">\n",
       "  <thead>\n",
       "    <tr style=\"text-align: right;\">\n",
       "      <th></th>\n",
       "      <th>code</th>\n",
       "      <th>title</th>\n",
       "    </tr>\n",
       "  </thead>\n",
       "  <tbody>\n",
       "    <tr>\n",
       "      <th>0</th>\n",
       "      <td>COMP111</td>\n",
       "      <td>Introduction to Video Games</td>\n",
       "    </tr>\n",
       "    <tr>\n",
       "      <th>1</th>\n",
       "      <td>COMP115</td>\n",
       "      <td>Introduction to Computer Programming</td>\n",
       "    </tr>\n",
       "    <tr>\n",
       "      <th>2</th>\n",
       "      <td>COMP125</td>\n",
       "      <td>Fundamentals of Computer Science</td>\n",
       "    </tr>\n",
       "    <tr>\n",
       "      <th>3</th>\n",
       "      <td>COMP188</td>\n",
       "      <td>Enrichment Topics in Computing</td>\n",
       "    </tr>\n",
       "    <tr>\n",
       "      <th>4</th>\n",
       "      <td>COMP202</td>\n",
       "      <td>Systems Programming</td>\n",
       "    </tr>\n",
       "  </tbody>\n",
       "</table>\n",
       "</div>"
      ],
      "text/plain": [
       "       code                                  title\n",
       "0  COMP111             Introduction to Video Games\n",
       "1  COMP115    Introduction to Computer Programming\n",
       "2  COMP125        Fundamentals of Computer Science\n",
       "3  COMP188          Enrichment Topics in Computing\n",
       "4  COMP202                     Systems Programming"
      ]
     },
     "execution_count": 45,
     "metadata": {},
     "output_type": "execute_result"
    }
   ],
   "source": [
    "documents = []\n",
    "with open('coursenames.txt') as fd:\n",
    "    for line in fd:\n",
    "        code, title = line.strip().split('-')\n",
    "        documents.append({'code': code, 'title': title})\n",
    "documents = pd.DataFrame(documents)\n",
    "documents.head()"
   ]
  },
  {
   "cell_type": "code",
   "execution_count": 46,
   "metadata": {},
   "outputs": [
    {
     "data": {
      "text/plain": [
       "dict_items([('Introduction', 0), ('to', 0), ('Video', 0), ('Games', 0), ('Computer', 0), ('Programming', 0), ('Fundamentals', 0), ('of', 0), ('Science', 0), ('Enrichment', 0), ('Topics', 0), ('in', 0), ('Computing', 0), ('Systems', 0), ('Algorithms', 0), ('and', 0), ('Data', 0), ('Structures', 0), ('Object', 0), ('Oriented', 0), ('Practices', 0), ('Communications', 0), ('Web', 0), ('Technology', 0), ('Software', 0), ('Engineering', 0), ('Game', 0), ('Design', 0), ('Artificial', 0), ('Intelligence', 0), ('Graphics', 0), ('Languages', 0), ('Algorithm', 0), ('Theory', 0), ('Distributed', 0), ('Big', 0), ('Cryptography', 0), ('Information', 0), ('Security', 0), ('E', 0), ('Commerce', 0), ('Networks', 0), ('Document', 0), ('Processing', 0), ('the', 0), ('Semantic', 0), ('Special', 0), ('Videogames', 0), ('Project', 0), ('Research', 0), ('Topic', 0), ('Development', 0), ('Advanced', 0), ('Thesis', 0), ('A', 0), ('B', 0), ('IT', 0), ('&', 0), ('Society', 0), ('Business', 0), ('Database', 0), ('Management', 0), ('Future', 0), ('Applications', 0), ('Modelling', 0), ('Enterprise', 0), ('Integration', 0), ('Projects', 0), ('Industry', 0)])"
      ]
     },
     "execution_count": 46,
     "metadata": {},
     "output_type": "execute_result"
    }
   ],
   "source": [
    "# get a list of the words in all titles, initialise a dictionary to zero values for each word\n",
    "vocab = {}\n",
    "for title in documents.title:\n",
    "    for word in title.split():\n",
    "        vocab[word] = 0\n",
    "vocab.items()"
   ]
  },
  {
   "cell_type": "code",
   "execution_count": 47,
   "metadata": {},
   "outputs": [
    {
     "data": {
      "text/html": [
       "<div>\n",
       "<style scoped>\n",
       "    .dataframe tbody tr th:only-of-type {\n",
       "        vertical-align: middle;\n",
       "    }\n",
       "\n",
       "    .dataframe tbody tr th {\n",
       "        vertical-align: top;\n",
       "    }\n",
       "\n",
       "    .dataframe thead th {\n",
       "        text-align: right;\n",
       "    }\n",
       "</style>\n",
       "<table border=\"1\" class=\"dataframe\">\n",
       "  <thead>\n",
       "    <tr style=\"text-align: right;\">\n",
       "      <th></th>\n",
       "      <th>&amp;</th>\n",
       "      <th>A</th>\n",
       "      <th>Advanced</th>\n",
       "      <th>Algorithm</th>\n",
       "      <th>Algorithms</th>\n",
       "      <th>Applications</th>\n",
       "      <th>Artificial</th>\n",
       "      <th>B</th>\n",
       "      <th>Big</th>\n",
       "      <th>Business</th>\n",
       "      <th>...</th>\n",
       "      <th>Topic</th>\n",
       "      <th>Topics</th>\n",
       "      <th>Video</th>\n",
       "      <th>Videogames</th>\n",
       "      <th>Web</th>\n",
       "      <th>and</th>\n",
       "      <th>in</th>\n",
       "      <th>of</th>\n",
       "      <th>the</th>\n",
       "      <th>to</th>\n",
       "    </tr>\n",
       "    <tr>\n",
       "      <th>code</th>\n",
       "      <th></th>\n",
       "      <th></th>\n",
       "      <th></th>\n",
       "      <th></th>\n",
       "      <th></th>\n",
       "      <th></th>\n",
       "      <th></th>\n",
       "      <th></th>\n",
       "      <th></th>\n",
       "      <th></th>\n",
       "      <th></th>\n",
       "      <th></th>\n",
       "      <th></th>\n",
       "      <th></th>\n",
       "      <th></th>\n",
       "      <th></th>\n",
       "      <th></th>\n",
       "      <th></th>\n",
       "      <th></th>\n",
       "      <th></th>\n",
       "      <th></th>\n",
       "    </tr>\n",
       "  </thead>\n",
       "  <tbody>\n",
       "    <tr>\n",
       "      <th>COMP111</th>\n",
       "      <td>0</td>\n",
       "      <td>0</td>\n",
       "      <td>0</td>\n",
       "      <td>0</td>\n",
       "      <td>0</td>\n",
       "      <td>0</td>\n",
       "      <td>0</td>\n",
       "      <td>0</td>\n",
       "      <td>0</td>\n",
       "      <td>0</td>\n",
       "      <td>...</td>\n",
       "      <td>0</td>\n",
       "      <td>0</td>\n",
       "      <td>1</td>\n",
       "      <td>0</td>\n",
       "      <td>0</td>\n",
       "      <td>0</td>\n",
       "      <td>0</td>\n",
       "      <td>0</td>\n",
       "      <td>0</td>\n",
       "      <td>1</td>\n",
       "    </tr>\n",
       "    <tr>\n",
       "      <th>COMP115</th>\n",
       "      <td>0</td>\n",
       "      <td>0</td>\n",
       "      <td>0</td>\n",
       "      <td>0</td>\n",
       "      <td>0</td>\n",
       "      <td>0</td>\n",
       "      <td>0</td>\n",
       "      <td>0</td>\n",
       "      <td>0</td>\n",
       "      <td>0</td>\n",
       "      <td>...</td>\n",
       "      <td>0</td>\n",
       "      <td>0</td>\n",
       "      <td>0</td>\n",
       "      <td>0</td>\n",
       "      <td>0</td>\n",
       "      <td>0</td>\n",
       "      <td>0</td>\n",
       "      <td>0</td>\n",
       "      <td>0</td>\n",
       "      <td>1</td>\n",
       "    </tr>\n",
       "    <tr>\n",
       "      <th>COMP125</th>\n",
       "      <td>0</td>\n",
       "      <td>0</td>\n",
       "      <td>0</td>\n",
       "      <td>0</td>\n",
       "      <td>0</td>\n",
       "      <td>0</td>\n",
       "      <td>0</td>\n",
       "      <td>0</td>\n",
       "      <td>0</td>\n",
       "      <td>0</td>\n",
       "      <td>...</td>\n",
       "      <td>0</td>\n",
       "      <td>0</td>\n",
       "      <td>0</td>\n",
       "      <td>0</td>\n",
       "      <td>0</td>\n",
       "      <td>0</td>\n",
       "      <td>0</td>\n",
       "      <td>1</td>\n",
       "      <td>0</td>\n",
       "      <td>0</td>\n",
       "    </tr>\n",
       "    <tr>\n",
       "      <th>COMP188</th>\n",
       "      <td>0</td>\n",
       "      <td>0</td>\n",
       "      <td>0</td>\n",
       "      <td>0</td>\n",
       "      <td>0</td>\n",
       "      <td>0</td>\n",
       "      <td>0</td>\n",
       "      <td>0</td>\n",
       "      <td>0</td>\n",
       "      <td>0</td>\n",
       "      <td>...</td>\n",
       "      <td>0</td>\n",
       "      <td>1</td>\n",
       "      <td>0</td>\n",
       "      <td>0</td>\n",
       "      <td>0</td>\n",
       "      <td>0</td>\n",
       "      <td>1</td>\n",
       "      <td>0</td>\n",
       "      <td>0</td>\n",
       "      <td>0</td>\n",
       "    </tr>\n",
       "    <tr>\n",
       "      <th>COMP202</th>\n",
       "      <td>0</td>\n",
       "      <td>0</td>\n",
       "      <td>0</td>\n",
       "      <td>0</td>\n",
       "      <td>0</td>\n",
       "      <td>0</td>\n",
       "      <td>0</td>\n",
       "      <td>0</td>\n",
       "      <td>0</td>\n",
       "      <td>0</td>\n",
       "      <td>...</td>\n",
       "      <td>0</td>\n",
       "      <td>0</td>\n",
       "      <td>0</td>\n",
       "      <td>0</td>\n",
       "      <td>0</td>\n",
       "      <td>0</td>\n",
       "      <td>0</td>\n",
       "      <td>0</td>\n",
       "      <td>0</td>\n",
       "      <td>0</td>\n",
       "    </tr>\n",
       "  </tbody>\n",
       "</table>\n",
       "<p>5 rows × 69 columns</p>\n",
       "</div>"
      ],
      "text/plain": [
       "          &  A  Advanced  Algorithm  Algorithms  Applications  Artificial  B  \\\n",
       "code                                                                           \n",
       "COMP111   0  0         0          0           0             0           0  0   \n",
       "COMP115   0  0         0          0           0             0           0  0   \n",
       "COMP125   0  0         0          0           0             0           0  0   \n",
       "COMP188   0  0         0          0           0             0           0  0   \n",
       "COMP202   0  0         0          0           0             0           0  0   \n",
       "\n",
       "          Big  Business  ...  Topic  Topics  Video  Videogames  Web  and  in  \\\n",
       "code                     ...                                                   \n",
       "COMP111     0         0  ...      0       0      1           0    0    0   0   \n",
       "COMP115     0         0  ...      0       0      0           0    0    0   0   \n",
       "COMP125     0         0  ...      0       0      0           0    0    0   0   \n",
       "COMP188     0         0  ...      0       1      0           0    0    0   1   \n",
       "COMP202     0         0  ...      0       0      0           0    0    0   0   \n",
       "\n",
       "          of  the  to  \n",
       "code                   \n",
       "COMP111    0    0   1  \n",
       "COMP115    0    0   1  \n",
       "COMP125    1    0   0  \n",
       "COMP188    0    0   0  \n",
       "COMP202    0    0   0  \n",
       "\n",
       "[5 rows x 69 columns]"
      ]
     },
     "execution_count": 47,
     "metadata": {},
     "output_type": "execute_result"
    }
   ],
   "source": [
    "# for each document, copy the vocab dictionary, set feature to 1 if word is present\n",
    "wv = []\n",
    "for title in documents.title:\n",
    "    d = vocab.copy()\n",
    "    for word in title.split():\n",
    "        d[word] = 1\n",
    "    wv.append(d)\n",
    "wv = pd.DataFrame(wv, index=documents.code)\n",
    "wv.head()"
   ]
  },
  {
   "cell_type": "markdown",
   "metadata": {},
   "source": [
    "## Clustering Text\n",
    "\n",
    "* We now have a feature set for our collection of texts\n",
    "* Feature values are 0 or 1 for each word\n",
    "* We can apply the clustering algorithm to this to find groups of titles\n",
    "* Try hierarchical clustering..."
   ]
  },
  {
   "cell_type": "code",
   "execution_count": 48,
   "metadata": {},
   "outputs": [],
   "source": [
    "dist = pdist(wv, 'euclidean')\n",
    "linkage_matrix = linkage(dist,method = 'complete')  # or 'ward'"
   ]
  },
  {
   "cell_type": "code",
   "execution_count": 49,
   "metadata": {},
   "outputs": [
    {
     "data": {
      "image/png": "[encoded data removed]",
      "text/plain": [
       "<Figure size 1080x504 with 1 Axes>"
      ]
     },
     "metadata": {},
     "output_type": "display_data"
    }
   ],
   "source": [
    "plt.figure(figsize=(15,7))\n",
    "dendrogram(linkage_matrix, labels=wv.index)\n",
    "plt.show()"
   ]
  },
  {
   "cell_type": "markdown",
   "metadata": {},
   "source": [
    "What can we see in this dendogram? The main feature is that the lowest level lines are much longer than in our previous example with the autompg data. Since the length of the line is related to the similarity of the cluster this means that the individual unit titles are not as similar to each other as the cars were. This is because there are so few words in the titles so the overlap is not very great.\n",
    "It would be hard to derive a particular group of clusters from this result.\n",
    "\n",
    "### TF-IDF\n",
    "\n",
    "A word vector containing 1 and 0 values is the simplest representation of a text but it misses a lot of detail. An improvement would be to include the count of the number of times that word occurs - term frequency.\n",
    "Documents where a word occurs many times would be more similar to others with high frequency of this word. Stories about elephants would be more similar to each other than to one about a zoo that mentions elephants just once.\n",
    "We can go further. Consider words like 'the'. Almost every document will have a high term frequency for 'the', it won't help finding similar documents. Another useful measure is inverse document frequency which is 1 divided by the frequency of the term in all documents. IDF of 'the' will be very small (1/large number). We define TF-IDF as the product of the term frequency and the inverse document frequency.\n",
    "TF-IDF for a common word like 'the' will be low. For a useful word like 'elephant' it will be higher since that word isn't very frequent overall but occurs often in documents about elephants.\n",
    "Let's run an experiment on some more unit data, this time with the unit descriptions which are longer and should provide more information for clustering. I will use the sklearn module to extract TfIDF features since it has a built in feature extractor for that purpose."
   ]
  },
  {
   "cell_type": "code",
   "execution_count": 50,
   "metadata": {},
   "outputs": [
    {
     "data": {
      "text/html": [
       "<div>\n",
       "<style scoped>\n",
       "    .dataframe tbody tr th:only-of-type {\n",
       "        vertical-align: middle;\n",
       "    }\n",
       "\n",
       "    .dataframe tbody tr th {\n",
       "        vertical-align: top;\n",
       "    }\n",
       "\n",
       "    .dataframe thead th {\n",
       "        text-align: right;\n",
       "    }\n",
       "</style>\n",
       "<table border=\"1\" class=\"dataframe\">\n",
       "  <thead>\n",
       "    <tr style=\"text-align: right;\">\n",
       "      <th></th>\n",
       "      <th>code</th>\n",
       "      <th>description</th>\n",
       "    </tr>\n",
       "  </thead>\n",
       "  <tbody>\n",
       "    <tr>\n",
       "      <th>0</th>\n",
       "      <td>COMP107</td>\n",
       "      <td>This unit tackles cyber security as a multidis...</td>\n",
       "    </tr>\n",
       "    <tr>\n",
       "      <th>1</th>\n",
       "      <td>COMP111</td>\n",
       "      <td>Video games provide the only real example of t...</td>\n",
       "    </tr>\n",
       "    <tr>\n",
       "      <th>2</th>\n",
       "      <td>COMP115</td>\n",
       "      <td>This unit is an introductory computer science ...</td>\n",
       "    </tr>\n",
       "    <tr>\n",
       "      <th>3</th>\n",
       "      <td>COMP125</td>\n",
       "      <td>This unit studies programming as a systematic ...</td>\n",
       "    </tr>\n",
       "    <tr>\n",
       "      <th>4</th>\n",
       "      <td>COMP202</td>\n",
       "      <td>This unit studies the boundary between softwar...</td>\n",
       "    </tr>\n",
       "  </tbody>\n",
       "</table>\n",
       "</div>"
      ],
      "text/plain": [
       "      code                                        description\n",
       "0  COMP107  This unit tackles cyber security as a multidis...\n",
       "1  COMP111  Video games provide the only real example of t...\n",
       "2  COMP115  This unit is an introductory computer science ...\n",
       "3  COMP125  This unit studies programming as a systematic ...\n",
       "4  COMP202  This unit studies the boundary between softwar..."
      ]
     },
     "execution_count": 50,
     "metadata": {},
     "output_type": "execute_result"
    }
   ],
   "source": [
    "descriptions = pd.read_csv('unit-descriptions.csv')\n",
    "descriptions.head()"
   ]
  },
  {
   "cell_type": "code",
   "execution_count": 51,
   "metadata": {},
   "outputs": [
    {
     "data": {
      "text/plain": [
       "array([0.        , 0.        , 0.        , 0.42740581, 0.        ,\n",
       "       0.        , 0.31172365, 0.        , 0.15493175, 0.        ,\n",
       "       0.        , 0.        , 0.        , 0.        , 0.        ,\n",
       "       0.        , 0.26686149, 0.        , 0.14421555, 0.14936737,\n",
       "       0.        , 0.33521267, 0.        , 0.16760633, 0.0712343 ,\n",
       "       0.23884063, 0.        , 0.        , 0.        , 0.15493175,\n",
       "       0.        , 0.        , 0.        , 0.        , 0.        ,\n",
       "       0.        , 0.18311877, 0.14421555, 0.43796602, 0.        ,\n",
       "       0.1424686 , 0.16506449, 0.        , 0.        , 0.1424686 ,\n",
       "       0.        , 0.        , 0.20311777, 0.        , 0.        ])"
      ]
     },
     "execution_count": 51,
     "metadata": {},
     "output_type": "execute_result"
    }
   ],
   "source": [
    "from sklearn.feature_extraction.text import TfidfVectorizer\n",
    "# we make a vectorizer to extract the TFIDF features, we ask for at most 100 features - so the 100 highest\n",
    "# ranked words will be used\n",
    "\n",
    "vectorizer = TfidfVectorizer(max_features=50)\n",
    "\n",
    "# use fit_transform to fit the model and transform the data into feature vectors\n",
    "# we convert it to an array (default return value is a sparse array which doesn't work with scipy clustering)\n",
    "X = vectorizer.fit_transform(descriptions.description).toarray()\n",
    "# look at the first vector\n",
    "X[0]"
   ]
  },
  {
   "cell_type": "code",
   "execution_count": 52,
   "metadata": {},
   "outputs": [
    {
     "name": "stdout",
     "output_type": "stream",
     "text": [
      "['algorithms', 'also', 'an', 'and', 'applications', 'are', 'as', 'be', 'by', 'computer', 'computing', 'data', 'design', 'development', 'for', 'game', 'in', 'include', 'information', 'introduces', 'is', 'it', 'languages', 'management', 'of', 'on', 'practical', 'programming', 'project', 'provides', 'research', 'software', 'students', 'such', 'systems', 'techniques', 'technology', 'that', 'the', 'their', 'this', 'to', 'tools', 'topics', 'unit', 'used', 'using', 'web', 'will', 'with']\n"
     ]
    }
   ],
   "source": [
    "# what are the features selected\n",
    "print(vectorizer.get_feature_names())"
   ]
  },
  {
   "cell_type": "code",
   "execution_count": 53,
   "metadata": {},
   "outputs": [
    {
     "data": {
      "image/png": "[encoded data removed]",
      "text/plain": [
       "<Figure size 1080x576 with 1 Axes>"
      ]
     },
     "metadata": {},
     "output_type": "display_data"
    }
   ],
   "source": [
    "# now do the hierarchical clustering as before\n",
    "dist = pdist(X, 'euclidean')\n",
    "linkage_matrix = linkage(dist, method = 'complete')  # or 'ward'\n",
    "plt.figure(figsize=(15,8))\n",
    "dendrogram(linkage_matrix, labels=list(descriptions.code), orientation='left')\n",
    "plt.show()"
   ]
  },
  {
   "cell_type": "code",
   "execution_count": 54,
   "metadata": {},
   "outputs": [
    {
     "data": {
      "image/png": "[encoded data removed]",
      "text/plain": [
       "<Figure size 1080x576 with 1 Axes>"
      ]
     },
     "metadata": {},
     "output_type": "display_data"
    }
   ],
   "source": [
    "# compare with 'ward' distance metric\n",
    "linkage_matrix = linkage(dist, method = 'ward')  # or 'ward'\n",
    "plt.figure(figsize=(15,8))\n",
    "dendrogram(linkage_matrix, labels=list(descriptions.code), orientation='left')\n",
    "plt.show()"
   ]
  },
  {
   "cell_type": "markdown",
   "metadata": {},
   "source": [
    "Are these results more interesting than the clustering of titles? COMP257 (Data Science) pairs with COMP336 (Big Data) which makes sense. Some other groupings can be interpreted too. The dendograms for the two methods look quite different but the resulting clusters are similar."
   ]
  }
 ],
 "metadata": {
  "kernelspec": {
   "display_name": "Python 3 (ipykernel)",
   "language": "python",
   "name": "python3"
  },
  "language_info": {
   "codemirror_mode": {
    "name": "ipython",
    "version": 3
   },
   "file_extension": ".py",
   "mimetype": "text/x-python",
   "name": "python",
   "nbconvert_exporter": "python",
   "pygments_lexer": "ipython3",
   "version": "3.9.7"
  }
 },
 "nbformat": 4,
 "nbformat_minor": 2
}
