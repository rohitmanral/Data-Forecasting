{
 "cells": [
  {
   "cell_type": "code",
   "execution_count": 129,
   "metadata": {},
   "outputs": [],
   "source": [
    "import pandas as pd\n",
    "from pandas import DataFrame\n",
    "import matplotlib.pyplot as plt\n",
    "import numpy as np\n",
    "import seaborn as sns\n",
    "from sklearn.model_selection import train_test_split\n",
    "plt.style.use('seaborn')\n",
    "%matplotlib inline"
   ]
  },
  {
   "cell_type": "markdown",
   "metadata": {},
   "source": [
    "## `Testing Data` "
   ]
  },
  {
   "cell_type": "code",
   "execution_count": 130,
   "metadata": {},
   "outputs": [
    {
     "name": "stdout",
     "output_type": "stream",
     "text": [
      "(4932, 32)\n"
     ]
    },
    {
     "data": {
      "text/html": [
       "<div>\n",
       "<style scoped>\n",
       "    .dataframe tbody tr th:only-of-type {\n",
       "        vertical-align: middle;\n",
       "    }\n",
       "\n",
       "    .dataframe tbody tr th {\n",
       "        vertical-align: top;\n",
       "    }\n",
       "\n",
       "    .dataframe thead th {\n",
       "        text-align: right;\n",
       "    }\n",
       "</style>\n",
       "<table border=\"1\" class=\"dataframe\">\n",
       "  <thead>\n",
       "    <tr style=\"text-align: right;\">\n",
       "      <th></th>\n",
       "      <th>date</th>\n",
       "      <th>Appliances</th>\n",
       "      <th>lights</th>\n",
       "      <th>T1</th>\n",
       "      <th>RH_1</th>\n",
       "      <th>T2</th>\n",
       "      <th>RH_2</th>\n",
       "      <th>T3</th>\n",
       "      <th>RH_3</th>\n",
       "      <th>T4</th>\n",
       "      <th>...</th>\n",
       "      <th>Press_mm_hg</th>\n",
       "      <th>RH_out</th>\n",
       "      <th>Windspeed</th>\n",
       "      <th>Visibility</th>\n",
       "      <th>Tdewpoint</th>\n",
       "      <th>rv1</th>\n",
       "      <th>rv2</th>\n",
       "      <th>NSM</th>\n",
       "      <th>WeekStatus</th>\n",
       "      <th>Day_of_week</th>\n",
       "    </tr>\n",
       "  </thead>\n",
       "  <tbody>\n",
       "    <tr>\n",
       "      <th>0</th>\n",
       "      <td>2016-01-11 17:30:00</td>\n",
       "      <td>50</td>\n",
       "      <td>40</td>\n",
       "      <td>19.890</td>\n",
       "      <td>46.067</td>\n",
       "      <td>19.200</td>\n",
       "      <td>44.590</td>\n",
       "      <td>19.790</td>\n",
       "      <td>45.000</td>\n",
       "      <td>18.890</td>\n",
       "      <td>...</td>\n",
       "      <td>733.800</td>\n",
       "      <td>92.000</td>\n",
       "      <td>6.000</td>\n",
       "      <td>51.500</td>\n",
       "      <td>5.000</td>\n",
       "      <td>45.410</td>\n",
       "      <td>45.410</td>\n",
       "      <td>63000</td>\n",
       "      <td>Weekday</td>\n",
       "      <td>Monday</td>\n",
       "    </tr>\n",
       "    <tr>\n",
       "      <th>1</th>\n",
       "      <td>2016-01-11 18:00:00</td>\n",
       "      <td>60</td>\n",
       "      <td>50</td>\n",
       "      <td>19.890</td>\n",
       "      <td>45.767</td>\n",
       "      <td>19.200</td>\n",
       "      <td>44.500</td>\n",
       "      <td>19.790</td>\n",
       "      <td>44.900</td>\n",
       "      <td>18.890</td>\n",
       "      <td>...</td>\n",
       "      <td>734.100</td>\n",
       "      <td>92.000</td>\n",
       "      <td>5.000</td>\n",
       "      <td>40.000</td>\n",
       "      <td>4.700</td>\n",
       "      <td>47.234</td>\n",
       "      <td>47.234</td>\n",
       "      <td>64800</td>\n",
       "      <td>Weekday</td>\n",
       "      <td>Monday</td>\n",
       "    </tr>\n",
       "    <tr>\n",
       "      <th>2</th>\n",
       "      <td>2016-01-11 18:40:00</td>\n",
       "      <td>230</td>\n",
       "      <td>70</td>\n",
       "      <td>19.927</td>\n",
       "      <td>45.863</td>\n",
       "      <td>19.357</td>\n",
       "      <td>44.400</td>\n",
       "      <td>19.790</td>\n",
       "      <td>44.900</td>\n",
       "      <td>18.890</td>\n",
       "      <td>...</td>\n",
       "      <td>734.367</td>\n",
       "      <td>91.333</td>\n",
       "      <td>5.667</td>\n",
       "      <td>40.000</td>\n",
       "      <td>4.633</td>\n",
       "      <td>10.299</td>\n",
       "      <td>10.299</td>\n",
       "      <td>67200</td>\n",
       "      <td>Weekday</td>\n",
       "      <td>Monday</td>\n",
       "    </tr>\n",
       "    <tr>\n",
       "      <th>3</th>\n",
       "      <td>2016-01-11 18:50:00</td>\n",
       "      <td>580</td>\n",
       "      <td>60</td>\n",
       "      <td>20.067</td>\n",
       "      <td>46.397</td>\n",
       "      <td>19.427</td>\n",
       "      <td>44.400</td>\n",
       "      <td>19.790</td>\n",
       "      <td>44.827</td>\n",
       "      <td>19.000</td>\n",
       "      <td>...</td>\n",
       "      <td>734.433</td>\n",
       "      <td>91.167</td>\n",
       "      <td>5.833</td>\n",
       "      <td>40.000</td>\n",
       "      <td>4.617</td>\n",
       "      <td>8.828</td>\n",
       "      <td>8.828</td>\n",
       "      <td>67800</td>\n",
       "      <td>Weekday</td>\n",
       "      <td>Monday</td>\n",
       "    </tr>\n",
       "    <tr>\n",
       "      <th>4</th>\n",
       "      <td>2016-01-11 19:30:00</td>\n",
       "      <td>100</td>\n",
       "      <td>10</td>\n",
       "      <td>20.567</td>\n",
       "      <td>53.893</td>\n",
       "      <td>20.033</td>\n",
       "      <td>46.757</td>\n",
       "      <td>20.100</td>\n",
       "      <td>48.467</td>\n",
       "      <td>19.000</td>\n",
       "      <td>...</td>\n",
       "      <td>734.850</td>\n",
       "      <td>89.500</td>\n",
       "      <td>6.000</td>\n",
       "      <td>40.000</td>\n",
       "      <td>4.350</td>\n",
       "      <td>24.885</td>\n",
       "      <td>24.885</td>\n",
       "      <td>70200</td>\n",
       "      <td>Weekday</td>\n",
       "      <td>Monday</td>\n",
       "    </tr>\n",
       "  </tbody>\n",
       "</table>\n",
       "<p>5 rows × 32 columns</p>\n",
       "</div>"
      ],
      "text/plain": [
       "                  date  Appliances  lights     T1   RH_1     T2   RH_2     T3  \\\n",
       "0  2016-01-11 17:30:00          50      40 19.890 46.067 19.200 44.590 19.790   \n",
       "1  2016-01-11 18:00:00          60      50 19.890 45.767 19.200 44.500 19.790   \n",
       "2  2016-01-11 18:40:00         230      70 19.927 45.863 19.357 44.400 19.790   \n",
       "3  2016-01-11 18:50:00         580      60 20.067 46.397 19.427 44.400 19.790   \n",
       "4  2016-01-11 19:30:00         100      10 20.567 53.893 20.033 46.757 20.100   \n",
       "\n",
       "    RH_3     T4  ...  Press_mm_hg  RH_out  Windspeed  Visibility  Tdewpoint  \\\n",
       "0 45.000 18.890  ...      733.800  92.000      6.000      51.500      5.000   \n",
       "1 44.900 18.890  ...      734.100  92.000      5.000      40.000      4.700   \n",
       "2 44.900 18.890  ...      734.367  91.333      5.667      40.000      4.633   \n",
       "3 44.827 19.000  ...      734.433  91.167      5.833      40.000      4.617   \n",
       "4 48.467 19.000  ...      734.850  89.500      6.000      40.000      4.350   \n",
       "\n",
       "     rv1    rv2    NSM  WeekStatus  Day_of_week  \n",
       "0 45.410 45.410  63000     Weekday       Monday  \n",
       "1 47.234 47.234  64800     Weekday       Monday  \n",
       "2 10.299 10.299  67200     Weekday       Monday  \n",
       "3  8.828  8.828  67800     Weekday       Monday  \n",
       "4 24.885 24.885  70200     Weekday       Monday  \n",
       "\n",
       "[5 rows x 32 columns]"
      ]
     },
     "execution_count": 130,
     "metadata": {},
     "output_type": "execute_result"
    }
   ],
   "source": [
    "read_testingdata = pd.read_csv('testing.csv')\n",
    "print(read_testingdata.shape)\n",
    "read_testingdata.head()"
   ]
  },
  {
   "cell_type": "code",
   "execution_count": 131,
   "metadata": {},
   "outputs": [
    {
     "data": {
      "text/plain": [
       "<matplotlib.axes._subplots.AxesSubplot at 0x1a2698f7b8>"
      ]
     },
     "execution_count": 131,
     "metadata": {},
     "output_type": "execute_result"
    },
    {
     "data": {
      "image/png": "[encoded data removed]",
      "text/plain": [
       "<Figure size 432x288 with 1 Axes>"
      ]
     },
     "metadata": {
      "needs_background": "light"
     },
     "output_type": "display_data"
    }
   ],
   "source": [
    "sns.heatmap(read_testingdata.isnull(),yticklabels=False,cbar=False,cmap='viridis')"
   ]
  },
  {
   "cell_type": "markdown",
   "metadata": {},
   "source": [
    "#### The above Heat map is to check that whether there are any null values in the testing dataframe or not."
   ]
  },
  {
   "cell_type": "code",
   "execution_count": 132,
   "metadata": {},
   "outputs": [
    {
     "data": {
      "text/plain": [
       "date           False\n",
       "Appliances     False\n",
       "lights         False\n",
       "T1             False\n",
       "RH_1           False\n",
       "T2             False\n",
       "RH_2           False\n",
       "T3             False\n",
       "RH_3           False\n",
       "T4             False\n",
       "RH_4           False\n",
       "T5             False\n",
       "RH_5           False\n",
       "T6             False\n",
       "RH_6           False\n",
       "T7             False\n",
       "RH_7           False\n",
       "T8             False\n",
       "RH_8           False\n",
       "T9             False\n",
       "RH_9           False\n",
       "T_out          False\n",
       "Press_mm_hg    False\n",
       "RH_out         False\n",
       "Windspeed      False\n",
       "Visibility     False\n",
       "Tdewpoint      False\n",
       "rv1            False\n",
       "rv2            False\n",
       "NSM            False\n",
       "WeekStatus     False\n",
       "Day_of_week    False\n",
       "dtype: bool"
      ]
     },
     "execution_count": 132,
     "metadata": {},
     "output_type": "execute_result"
    }
   ],
   "source": [
    "read_testingdata.isnull().any()"
   ]
  },
  {
   "cell_type": "markdown",
   "metadata": {},
   "source": [
    "#### The above code is to check that whether there are any null values in the testing dataset or not."
   ]
  },
  {
   "cell_type": "code",
   "execution_count": 133,
   "metadata": {},
   "outputs": [
    {
     "name": "stdout",
     "output_type": "stream",
     "text": [
      "(4932, 28)\n",
      "(4932,)\n"
     ]
    }
   ],
   "source": [
    "X_test = read_testingdata[['lights', 'T1', 'RH_1', 'T2', 'RH_2', 'T3',\n",
    "       'RH_3', 'T4', 'RH_4', 'T5', 'RH_5', 'T6', 'RH_6', 'T7', 'RH_7', 'T8',\n",
    "       'RH_8', 'T9', 'RH_9', 'T_out', 'Press_mm_hg', 'RH_out', 'Windspeed',\n",
    "       'Visibility', 'Tdewpoint', 'rv1', 'rv2','NSM']]\n",
    "print (X_test.shape)\n",
    "y_test = read_testingdata['Appliances']\n",
    "print (y_test.shape)"
   ]
  },
  {
   "cell_type": "markdown",
   "metadata": {},
   "source": [
    "#### The above code is assigning the variables to X_test and y_test arrays"
   ]
  },
  {
   "cell_type": "markdown",
   "metadata": {},
   "source": [
    "# Training a Linear Regression Model\n",
    "\n",
    "Let's now begin to train out regression model! We will need to first split up our data into an X array that contains the features to train on, and a y array with the target variable, in this case the Price column. We will toss out the Address column because it only has text info that the linear regression model can't use."
   ]
  },
  {
   "cell_type": "markdown",
   "metadata": {},
   "source": [
    "# `Training Data` "
   ]
  },
  {
   "cell_type": "code",
   "execution_count": 134,
   "metadata": {},
   "outputs": [
    {
     "name": "stdout",
     "output_type": "stream",
     "text": [
      "(14803, 31)\n"
     ]
    },
    {
     "data": {
      "text/html": [
       "<div>\n",
       "<style scoped>\n",
       "    .dataframe tbody tr th:only-of-type {\n",
       "        vertical-align: middle;\n",
       "    }\n",
       "\n",
       "    .dataframe tbody tr th {\n",
       "        vertical-align: top;\n",
       "    }\n",
       "\n",
       "    .dataframe thead th {\n",
       "        text-align: right;\n",
       "    }\n",
       "</style>\n",
       "<table border=\"1\" class=\"dataframe\">\n",
       "  <thead>\n",
       "    <tr style=\"text-align: right;\">\n",
       "      <th></th>\n",
       "      <th>Appliances</th>\n",
       "      <th>lights</th>\n",
       "      <th>T1</th>\n",
       "      <th>RH_1</th>\n",
       "      <th>T2</th>\n",
       "      <th>RH_2</th>\n",
       "      <th>T3</th>\n",
       "      <th>RH_3</th>\n",
       "      <th>T4</th>\n",
       "      <th>RH_4</th>\n",
       "      <th>...</th>\n",
       "      <th>Press_mm_hg</th>\n",
       "      <th>RH_out</th>\n",
       "      <th>Windspeed</th>\n",
       "      <th>Visibility</th>\n",
       "      <th>Tdewpoint</th>\n",
       "      <th>rv1</th>\n",
       "      <th>rv2</th>\n",
       "      <th>NSM</th>\n",
       "      <th>WeekStatus</th>\n",
       "      <th>Day_of_week</th>\n",
       "    </tr>\n",
       "    <tr>\n",
       "      <th>date</th>\n",
       "      <th></th>\n",
       "      <th></th>\n",
       "      <th></th>\n",
       "      <th></th>\n",
       "      <th></th>\n",
       "      <th></th>\n",
       "      <th></th>\n",
       "      <th></th>\n",
       "      <th></th>\n",
       "      <th></th>\n",
       "      <th></th>\n",
       "      <th></th>\n",
       "      <th></th>\n",
       "      <th></th>\n",
       "      <th></th>\n",
       "      <th></th>\n",
       "      <th></th>\n",
       "      <th></th>\n",
       "      <th></th>\n",
       "      <th></th>\n",
       "      <th></th>\n",
       "    </tr>\n",
       "  </thead>\n",
       "  <tbody>\n",
       "    <tr>\n",
       "      <th>2016-01-11 17:00:00</th>\n",
       "      <td>60</td>\n",
       "      <td>30</td>\n",
       "      <td>19.890</td>\n",
       "      <td>47.597</td>\n",
       "      <td>19.200</td>\n",
       "      <td>44.790</td>\n",
       "      <td>19.790</td>\n",
       "      <td>44.730</td>\n",
       "      <td>19.000</td>\n",
       "      <td>45.567</td>\n",
       "      <td>...</td>\n",
       "      <td>733.500</td>\n",
       "      <td>92.000</td>\n",
       "      <td>7.000</td>\n",
       "      <td>63.000</td>\n",
       "      <td>5.300</td>\n",
       "      <td>13.275</td>\n",
       "      <td>13.275</td>\n",
       "      <td>61200</td>\n",
       "      <td>Weekday</td>\n",
       "      <td>Monday</td>\n",
       "    </tr>\n",
       "    <tr>\n",
       "      <th>2016-01-11 17:10:00</th>\n",
       "      <td>60</td>\n",
       "      <td>30</td>\n",
       "      <td>19.890</td>\n",
       "      <td>46.693</td>\n",
       "      <td>19.200</td>\n",
       "      <td>44.722</td>\n",
       "      <td>19.790</td>\n",
       "      <td>44.790</td>\n",
       "      <td>19.000</td>\n",
       "      <td>45.992</td>\n",
       "      <td>...</td>\n",
       "      <td>733.600</td>\n",
       "      <td>92.000</td>\n",
       "      <td>6.667</td>\n",
       "      <td>59.167</td>\n",
       "      <td>5.200</td>\n",
       "      <td>18.606</td>\n",
       "      <td>18.606</td>\n",
       "      <td>61800</td>\n",
       "      <td>Weekday</td>\n",
       "      <td>Monday</td>\n",
       "    </tr>\n",
       "    <tr>\n",
       "      <th>2016-01-11 17:20:00</th>\n",
       "      <td>50</td>\n",
       "      <td>30</td>\n",
       "      <td>19.890</td>\n",
       "      <td>46.300</td>\n",
       "      <td>19.200</td>\n",
       "      <td>44.627</td>\n",
       "      <td>19.790</td>\n",
       "      <td>44.933</td>\n",
       "      <td>18.927</td>\n",
       "      <td>45.890</td>\n",
       "      <td>...</td>\n",
       "      <td>733.700</td>\n",
       "      <td>92.000</td>\n",
       "      <td>6.333</td>\n",
       "      <td>55.333</td>\n",
       "      <td>5.100</td>\n",
       "      <td>28.643</td>\n",
       "      <td>28.643</td>\n",
       "      <td>62400</td>\n",
       "      <td>Weekday</td>\n",
       "      <td>Monday</td>\n",
       "    </tr>\n",
       "    <tr>\n",
       "      <th>2016-01-11 17:40:00</th>\n",
       "      <td>60</td>\n",
       "      <td>40</td>\n",
       "      <td>19.890</td>\n",
       "      <td>46.333</td>\n",
       "      <td>19.200</td>\n",
       "      <td>44.530</td>\n",
       "      <td>19.790</td>\n",
       "      <td>45.000</td>\n",
       "      <td>18.890</td>\n",
       "      <td>45.530</td>\n",
       "      <td>...</td>\n",
       "      <td>733.900</td>\n",
       "      <td>92.000</td>\n",
       "      <td>5.667</td>\n",
       "      <td>47.667</td>\n",
       "      <td>4.900</td>\n",
       "      <td>10.084</td>\n",
       "      <td>10.084</td>\n",
       "      <td>63600</td>\n",
       "      <td>Weekday</td>\n",
       "      <td>Monday</td>\n",
       "    </tr>\n",
       "    <tr>\n",
       "      <th>2016-01-11 17:50:00</th>\n",
       "      <td>50</td>\n",
       "      <td>40</td>\n",
       "      <td>19.890</td>\n",
       "      <td>46.027</td>\n",
       "      <td>19.200</td>\n",
       "      <td>44.500</td>\n",
       "      <td>19.790</td>\n",
       "      <td>44.933</td>\n",
       "      <td>18.890</td>\n",
       "      <td>45.730</td>\n",
       "      <td>...</td>\n",
       "      <td>734.000</td>\n",
       "      <td>92.000</td>\n",
       "      <td>5.333</td>\n",
       "      <td>43.833</td>\n",
       "      <td>4.800</td>\n",
       "      <td>44.919</td>\n",
       "      <td>44.919</td>\n",
       "      <td>64200</td>\n",
       "      <td>Weekday</td>\n",
       "      <td>Monday</td>\n",
       "    </tr>\n",
       "  </tbody>\n",
       "</table>\n",
       "<p>5 rows × 31 columns</p>\n",
       "</div>"
      ],
      "text/plain": [
       "                     Appliances  lights     T1   RH_1     T2   RH_2     T3  \\\n",
       "date                                                                         \n",
       "2016-01-11 17:00:00          60      30 19.890 47.597 19.200 44.790 19.790   \n",
       "2016-01-11 17:10:00          60      30 19.890 46.693 19.200 44.722 19.790   \n",
       "2016-01-11 17:20:00          50      30 19.890 46.300 19.200 44.627 19.790   \n",
       "2016-01-11 17:40:00          60      40 19.890 46.333 19.200 44.530 19.790   \n",
       "2016-01-11 17:50:00          50      40 19.890 46.027 19.200 44.500 19.790   \n",
       "\n",
       "                      RH_3     T4   RH_4  ...  Press_mm_hg  RH_out  Windspeed  \\\n",
       "date                                      ...                                   \n",
       "2016-01-11 17:00:00 44.730 19.000 45.567  ...      733.500  92.000      7.000   \n",
       "2016-01-11 17:10:00 44.790 19.000 45.992  ...      733.600  92.000      6.667   \n",
       "2016-01-11 17:20:00 44.933 18.927 45.890  ...      733.700  92.000      6.333   \n",
       "2016-01-11 17:40:00 45.000 18.890 45.530  ...      733.900  92.000      5.667   \n",
       "2016-01-11 17:50:00 44.933 18.890 45.730  ...      734.000  92.000      5.333   \n",
       "\n",
       "                     Visibility  Tdewpoint    rv1    rv2    NSM  WeekStatus  \\\n",
       "date                                                                          \n",
       "2016-01-11 17:00:00      63.000      5.300 13.275 13.275  61200     Weekday   \n",
       "2016-01-11 17:10:00      59.167      5.200 18.606 18.606  61800     Weekday   \n",
       "2016-01-11 17:20:00      55.333      5.100 28.643 28.643  62400     Weekday   \n",
       "2016-01-11 17:40:00      47.667      4.900 10.084 10.084  63600     Weekday   \n",
       "2016-01-11 17:50:00      43.833      4.800 44.919 44.919  64200     Weekday   \n",
       "\n",
       "                     Day_of_week  \n",
       "date                              \n",
       "2016-01-11 17:00:00       Monday  \n",
       "2016-01-11 17:10:00       Monday  \n",
       "2016-01-11 17:20:00       Monday  \n",
       "2016-01-11 17:40:00       Monday  \n",
       "2016-01-11 17:50:00       Monday  \n",
       "\n",
       "[5 rows x 31 columns]"
      ]
     },
     "execution_count": 134,
     "metadata": {},
     "output_type": "execute_result"
    }
   ],
   "source": [
    "read_trainingdata = pd.read_csv('training.csv' , index_col='date', parse_dates=True)\n",
    "print(read_trainingdata.shape)\n",
    "read_trainingdata.head()"
   ]
  },
  {
   "cell_type": "code",
   "execution_count": 135,
   "metadata": {},
   "outputs": [
    {
     "data": {
      "text/plain": [
       "Index(['Appliances', 'lights', 'T1', 'RH_1', 'T2', 'RH_2', 'T3', 'RH_3', 'T4',\n",
       "       'RH_4', 'T5', 'RH_5', 'T6', 'RH_6', 'T7', 'RH_7', 'T8', 'RH_8', 'T9',\n",
       "       'RH_9', 'T_out', 'Press_mm_hg', 'RH_out', 'Windspeed', 'Visibility',\n",
       "       'Tdewpoint', 'rv1', 'rv2', 'NSM', 'WeekStatus', 'Day_of_week'],\n",
       "      dtype='object')"
      ]
     },
     "execution_count": 135,
     "metadata": {},
     "output_type": "execute_result"
    }
   ],
   "source": [
    "read_trainingdata.columns"
   ]
  },
  {
   "cell_type": "code",
   "execution_count": 136,
   "metadata": {},
   "outputs": [
    {
     "name": "stdout",
     "output_type": "stream",
     "text": [
      "(14803, 28)\n",
      "(14803,)\n"
     ]
    }
   ],
   "source": [
    "X_train = read_trainingdata[['lights', 'T1', 'RH_1', 'T2', 'RH_2', 'T3',\n",
    "       'RH_3', 'T4', 'RH_4', 'T5', 'RH_5', 'T6', 'RH_6', 'T7', 'RH_7', 'T8',\n",
    "       'RH_8', 'T9', 'RH_9', 'T_out', 'Press_mm_hg', 'RH_out', 'Windspeed',\n",
    "       'Visibility', 'Tdewpoint', 'rv1', 'rv2','NSM']]\n",
    "print (X_train.shape)\n",
    "y_train = read_trainingdata['Appliances']\n",
    "print (y_train.shape)"
   ]
  },
  {
   "cell_type": "code",
   "execution_count": 137,
   "metadata": {},
   "outputs": [],
   "source": [
    "from sklearn.linear_model import LinearRegression\n",
    " \n",
    "lm = LinearRegression()\n",
    "\n",
    "lm.fit(X_train,y_train)\n",
    "predictions = lm.predict(X_test)"
   ]
  },
  {
   "cell_type": "markdown",
   "metadata": {},
   "source": [
    "#### The above code is predicting the values for y_test using X_test"
   ]
  },
  {
   "cell_type": "code",
   "execution_count": 138,
   "metadata": {},
   "outputs": [
    {
     "data": {
      "text/html": [
       "<div>\n",
       "<style scoped>\n",
       "    .dataframe tbody tr th:only-of-type {\n",
       "        vertical-align: middle;\n",
       "    }\n",
       "\n",
       "    .dataframe tbody tr th {\n",
       "        vertical-align: top;\n",
       "    }\n",
       "\n",
       "    .dataframe thead th {\n",
       "        text-align: right;\n",
       "    }\n",
       "</style>\n",
       "<table border=\"1\" class=\"dataframe\">\n",
       "  <thead>\n",
       "    <tr style=\"text-align: right;\">\n",
       "      <th></th>\n",
       "      <th>Actual Appliances' values</th>\n",
       "      <th>Predicted Appliances' values</th>\n",
       "    </tr>\n",
       "  </thead>\n",
       "  <tbody>\n",
       "    <tr>\n",
       "      <th>0</th>\n",
       "      <td>50</td>\n",
       "      <td>159.463</td>\n",
       "    </tr>\n",
       "    <tr>\n",
       "      <th>1</th>\n",
       "      <td>60</td>\n",
       "      <td>173.740</td>\n",
       "    </tr>\n",
       "    <tr>\n",
       "      <th>2</th>\n",
       "      <td>230</td>\n",
       "      <td>211.456</td>\n",
       "    </tr>\n",
       "    <tr>\n",
       "      <th>3</th>\n",
       "      <td>580</td>\n",
       "      <td>196.957</td>\n",
       "    </tr>\n",
       "    <tr>\n",
       "      <th>4</th>\n",
       "      <td>100</td>\n",
       "      <td>189.807</td>\n",
       "    </tr>\n",
       "  </tbody>\n",
       "</table>\n",
       "</div>"
      ],
      "text/plain": [
       "   Actual Appliances' values  Predicted Appliances' values\n",
       "0                         50                       159.463\n",
       "1                         60                       173.740\n",
       "2                        230                       211.456\n",
       "3                        580                       196.957\n",
       "4                        100                       189.807"
      ]
     },
     "execution_count": 138,
     "metadata": {},
     "output_type": "execute_result"
    }
   ],
   "source": [
    "df= pd.DataFrame({\"Actual Appliances' values\": y_test, \"Predicted Appliances' values\": predictions})\n",
    "df.head()"
   ]
  },
  {
   "cell_type": "markdown",
   "metadata": {},
   "source": [
    "#### The above code is showing the Actual Appliances' values and Predicted Appliances' values in a dataframe"
   ]
  },
  {
   "cell_type": "markdown",
   "metadata": {},
   "source": [
    "## RMSE"
   ]
  },
  {
   "cell_type": "code",
   "execution_count": 139,
   "metadata": {},
   "outputs": [
    {
     "name": "stdout",
     "output_type": "stream",
     "text": [
      "RMSE: 93.56425120887656\n"
     ]
    }
   ],
   "source": [
    "print('RMSE:', np.sqrt(metrics.mean_squared_error(y_test, predictions)))"
   ]
  },
  {
   "cell_type": "markdown",
   "metadata": {},
   "source": [
    "#### The above code is printing the RMSE (Root Mean Square Error) between the values of y_test ( predicted by using all 27 variables of our testing dataframe ) and predictions"
   ]
  },
  {
   "cell_type": "markdown",
   "metadata": {},
   "source": [
    "## Plotting "
   ]
  },
  {
   "cell_type": "code",
   "execution_count": 140,
   "metadata": {},
   "outputs": [
    {
     "data": {
      "text/plain": [
       "Text(0, 0.5, 'Residuals')"
      ]
     },
     "execution_count": 140,
     "metadata": {},
     "output_type": "execute_result"
    },
    {
     "data": {
      "image/png": "[encoded data removed]",
      "text/plain": [
       "<Figure size 720x720 with 1 Axes>"
      ]
     },
     "metadata": {
      "needs_background": "light"
     },
     "output_type": "display_data"
    }
   ],
   "source": [
    "xxx =plt.subplots(figsize=(10,10))\n",
    "ax=plt.scatter(abs(y_test-predictions),read_testingdata['Appliances'])\n",
    "plt.xlim([-100,1200])\n",
    "plt.xlabel(\"Appliances Energy Consumption\", size = 20)\n",
    "plt.ylim(-300,1400)\n",
    "plt.ylabel(\"Residuals\", size = 20)"
   ]
  },
  {
   "cell_type": "markdown",
   "metadata": {},
   "source": [
    "#### The above code is plotting the scatter plot between Residuals and Appliances"
   ]
  },
  {
   "cell_type": "markdown",
   "metadata": {},
   "source": [
    "# Line Graph of `RMSE vs Variables`"
   ]
  },
  {
   "cell_type": "code",
   "execution_count": 141,
   "metadata": {},
   "outputs": [
    {
     "data": {
      "text/plain": [
       "Index(['date', 'Appliances', 'lights', 'T1', 'RH_1', 'T2', 'RH_2', 'T3',\n",
       "       'RH_3', 'T4', 'RH_4', 'T5', 'RH_5', 'T6', 'RH_6', 'T7', 'RH_7', 'T8',\n",
       "       'RH_8', 'T9', 'RH_9', 'T_out', 'Press_mm_hg', 'RH_out', 'Windspeed',\n",
       "       'Visibility', 'Tdewpoint', 'rv1', 'rv2', 'NSM', 'WeekStatus',\n",
       "       'Day_of_week'],\n",
       "      dtype='object')"
      ]
     },
     "execution_count": 141,
     "metadata": {},
     "output_type": "execute_result"
    }
   ],
   "source": [
    "read_testingdata.columns"
   ]
  },
  {
   "cell_type": "markdown",
   "metadata": {},
   "source": [
    "#### The above code is checking the name of all the columns in testing data"
   ]
  },
  {
   "cell_type": "code",
   "execution_count": 142,
   "metadata": {},
   "outputs": [
    {
     "data": {
      "text/plain": [
       "(4932, 32)"
      ]
     },
     "execution_count": 142,
     "metadata": {},
     "output_type": "execute_result"
    }
   ],
   "source": [
    "read_testingdata.shape"
   ]
  },
  {
   "cell_type": "markdown",
   "metadata": {},
   "source": [
    "#### The above code is checking the shape of testing data"
   ]
  },
  {
   "cell_type": "markdown",
   "metadata": {},
   "source": [
    "## The most efficient variables of Testing Data for Appliances Variable are:- "
   ]
  },
  {
   "cell_type": "code",
   "execution_count": 143,
   "metadata": {},
   "outputs": [
    {
     "name": "stdout",
     "output_type": "stream",
     "text": [
      "Index(['lights', 'T1', 'RH_1', 'T2', 'RH_2', 'T3', 'RH_3', 'T4', 'RH_4', 'T5',\n",
      "       'RH_5', 'T6', 'RH_6', 'T7', 'RH_7', 'T8', 'RH_8', 'T9', 'RH_9', 'T_out',\n",
      "       'Press_mm_hg', 'RH_out', 'Windspeed', 'Visibility', 'Tdewpoint', 'rv1',\n",
      "       'rv2', 'NSM'],\n",
      "      dtype='object')\n"
     ]
    },
    {
     "data": {
      "text/plain": [
       "(4932, 28)"
      ]
     },
     "execution_count": 143,
     "metadata": {},
     "output_type": "execute_result"
    }
   ],
   "source": [
    "print(X_test.columns)\n",
    "X_test.shape"
   ]
  },
  {
   "cell_type": "markdown",
   "metadata": {},
   "source": [
    "# Now, i'll find the RMSE for every single variable in X_test dataframe "
   ]
  },
  {
   "cell_type": "code",
   "execution_count": 144,
   "metadata": {},
   "outputs": [],
   "source": [
    "var_rmse=[]"
   ]
  },
  {
   "cell_type": "markdown",
   "metadata": {},
   "source": [
    "## For 'Apliances', applying Linear Reression, predicting values and finding RMSE"
   ]
  },
  {
   "cell_type": "code",
   "execution_count": 145,
   "metadata": {},
   "outputs": [
    {
     "name": "stdout",
     "output_type": "stream",
     "text": [
      "(14803, 25)\n",
      "(14803,)\n"
     ]
    }
   ],
   "source": [
    "X_train = read_trainingdata[['lights', 'T1', 'RH_1', 'T2', 'RH_2', 'T3', 'RH_3', 'T4', 'RH_4', 'T5',\n",
    "       'RH_5', 'T6', 'RH_6', 'T7', 'RH_7', 'T8', 'RH_8', 'T9', 'RH_9', 'T_out',\n",
    "       'Press_mm_hg', 'RH_out', 'Windspeed', 'Visibility', 'Tdewpoint']]\n",
    "print (X_train.shape)\n",
    "\n",
    "y_train = read_trainingdata['Appliances']\n",
    "print (y_train.shape)"
   ]
  },
  {
   "cell_type": "code",
   "execution_count": 146,
   "metadata": {},
   "outputs": [
    {
     "name": "stdout",
     "output_type": "stream",
     "text": [
      "(4932, 25)\n",
      "(4932,)\n"
     ]
    }
   ],
   "source": [
    "X_test = read_testingdata[['lights', 'T1', 'RH_1', 'T2', 'RH_2', 'T3', 'RH_3', 'T4', 'RH_4', 'T5',\n",
    "       'RH_5', 'T6', 'RH_6', 'T7', 'RH_7', 'T8', 'RH_8', 'T9', 'RH_9', 'T_out',\n",
    "       'Press_mm_hg', 'RH_out', 'Windspeed', 'Visibility', 'Tdewpoint']]\n",
    "print (X_test.shape)\n",
    "y_test = read_testingdata['Appliances']\n",
    "print (y_test.shape)"
   ]
  },
  {
   "cell_type": "code",
   "execution_count": 147,
   "metadata": {},
   "outputs": [],
   "source": [
    "lm = LinearRegression()\n",
    "lm.fit(X_train,y_train)\n",
    "\n",
    "predictions = lm.predict(X_test)"
   ]
  },
  {
   "cell_type": "code",
   "execution_count": 148,
   "metadata": {},
   "outputs": [
    {
     "name": "stdout",
     "output_type": "stream",
     "text": [
      "[93.69971138183945]\n"
     ]
    }
   ],
   "source": [
    "rmse=np.sqrt(metrics.mean_squared_error(y_test, predictions))\n",
    "var_rmse.append(rmse)\n",
    "\n",
    "print(var_rmse)"
   ]
  },
  {
   "cell_type": "markdown",
   "metadata": {},
   "source": [
    "## For 'lights', applying Linear Reression, predicting values and finding RMSE"
   ]
  },
  {
   "cell_type": "code",
   "execution_count": 149,
   "metadata": {},
   "outputs": [
    {
     "name": "stdout",
     "output_type": "stream",
     "text": [
      "(14803, 25)\n",
      "(14803,)\n",
      "(4932, 25)\n",
      "(4932,)\n"
     ]
    }
   ],
   "source": [
    "X_train = read_trainingdata[['Appliances', 'T1', 'RH_1', 'T2', 'RH_2', 'T3', 'RH_3', 'T4', 'RH_4', 'T5',\n",
    "       'RH_5', 'T6', 'RH_6', 'T7', 'RH_7', 'T8', 'RH_8', 'T9', 'RH_9', 'T_out',\n",
    "       'Press_mm_hg', 'RH_out', 'Windspeed', 'Visibility', 'Tdewpoint']]\n",
    "print (X_train.shape)\n",
    "\n",
    "y_train = read_trainingdata['lights']\n",
    "print (y_train.shape)\n",
    "\n",
    "\n",
    "\n",
    "X_test = read_testingdata[['Appliances', 'T1', 'RH_1', 'T2', 'RH_2', 'T3', 'RH_3', 'T4', 'RH_4', 'T5',\n",
    "       'RH_5', 'T6', 'RH_6', 'T7', 'RH_7', 'T8', 'RH_8', 'T9', 'RH_9', 'T_out',\n",
    "       'Press_mm_hg', 'RH_out', 'Windspeed', 'Visibility', 'Tdewpoint']]\n",
    "print (X_test.shape)\n",
    "\n",
    "y_test = read_testingdata['lights']\n",
    "print (y_test.shape)"
   ]
  },
  {
   "cell_type": "code",
   "execution_count": 150,
   "metadata": {},
   "outputs": [],
   "source": [
    "lm = LinearRegression()\n",
    "lm.fit(X_train,y_train)\n",
    "\n",
    "predictions = lm.predict(X_test)"
   ]
  },
  {
   "cell_type": "code",
   "execution_count": 151,
   "metadata": {},
   "outputs": [
    {
     "name": "stdout",
     "output_type": "stream",
     "text": [
      "[93.69971138183945, 6.935751139020478]\n"
     ]
    }
   ],
   "source": [
    "rmse=np.sqrt(metrics.mean_squared_error(y_test, predictions))\n",
    "var_rmse.append(rmse)\n",
    "\n",
    "print(var_rmse)"
   ]
  },
  {
   "cell_type": "markdown",
   "metadata": {},
   "source": [
    "## For 'T1', applying Linear Reression, predicting values and finding RMSE"
   ]
  },
  {
   "cell_type": "code",
   "execution_count": 152,
   "metadata": {},
   "outputs": [
    {
     "name": "stdout",
     "output_type": "stream",
     "text": [
      "(14803, 25)\n",
      "(14803,)\n",
      "(4932, 25)\n",
      "(4932,)\n"
     ]
    }
   ],
   "source": [
    "X_train = read_trainingdata[['Appliances','lights', 'RH_1', 'T2', 'RH_2', 'T3', 'RH_3', 'T4', 'RH_4', 'T5',\n",
    "       'RH_5', 'T6', 'RH_6', 'T7', 'RH_7', 'T8', 'RH_8', 'T9', 'RH_9', 'T_out',\n",
    "       'Press_mm_hg', 'RH_out', 'Windspeed', 'Visibility', 'Tdewpoint']]\n",
    "print (X_train.shape)\n",
    "\n",
    "y_train = read_trainingdata['T1']\n",
    "print (y_train.shape)\n",
    "\n",
    "\n",
    "\n",
    "X_test = read_testingdata[['Appliances','lights', 'RH_1', 'T2', 'RH_2', 'T3', 'RH_3', 'T4', 'RH_4', 'T5',\n",
    "       'RH_5', 'T6', 'RH_6', 'T7', 'RH_7', 'T8', 'RH_8', 'T9', 'RH_9', 'T_out',\n",
    "       'Press_mm_hg', 'RH_out', 'Windspeed', 'Visibility', 'Tdewpoint']]\n",
    "print (X_test.shape)\n",
    "\n",
    "y_test = read_testingdata['T1']\n",
    "print (y_test.shape)"
   ]
  },
  {
   "cell_type": "code",
   "execution_count": 153,
   "metadata": {},
   "outputs": [],
   "source": [
    "lm = LinearRegression()\n",
    "lm.fit(X_train,y_train)\n",
    "\n",
    "predictions = lm.predict(X_test)"
   ]
  },
  {
   "cell_type": "code",
   "execution_count": 154,
   "metadata": {},
   "outputs": [
    {
     "name": "stdout",
     "output_type": "stream",
     "text": [
      "[93.69971138183945, 6.935751139020478, 0.36281411083579396]\n"
     ]
    }
   ],
   "source": [
    "rmse=np.sqrt(metrics.mean_squared_error(y_test, predictions))\n",
    "var_rmse.append(rmse)\n",
    "\n",
    "print(var_rmse)"
   ]
  },
  {
   "cell_type": "markdown",
   "metadata": {},
   "source": [
    "## For 'RH_1', applying Linear Reression, predicting values and finding RMSE"
   ]
  },
  {
   "cell_type": "code",
   "execution_count": 155,
   "metadata": {},
   "outputs": [
    {
     "name": "stdout",
     "output_type": "stream",
     "text": [
      "(14803, 25)\n",
      "(14803,)\n",
      "(4932, 25)\n",
      "(4932,)\n"
     ]
    }
   ],
   "source": [
    "X_train = read_trainingdata[['Appliances','lights', 'T1', 'T2', 'RH_2', 'T3', 'RH_3', 'T4', 'RH_4', 'T5',\n",
    "       'RH_5', 'T6', 'RH_6', 'T7', 'RH_7', 'T8', 'RH_8', 'T9', 'RH_9', 'T_out',\n",
    "       'Press_mm_hg', 'RH_out', 'Windspeed', 'Visibility', 'Tdewpoint']]\n",
    "print (X_train.shape)\n",
    "\n",
    "y_train = read_trainingdata['RH_1']\n",
    "print (y_train.shape)\n",
    "\n",
    "\n",
    "\n",
    "X_test = read_testingdata[['Appliances','lights', 'T1', 'T2', 'RH_2', 'T3', 'RH_3', 'T4', 'RH_4', 'T5',\n",
    "       'RH_5', 'T6', 'RH_6', 'T7', 'RH_7', 'T8', 'RH_8', 'T9', 'RH_9', 'T_out',\n",
    "       'Press_mm_hg', 'RH_out', 'Windspeed', 'Visibility', 'Tdewpoint']]\n",
    "print (X_test.shape)\n",
    "\n",
    "y_test = read_testingdata['RH_1']\n",
    "print (y_test.shape)"
   ]
  },
  {
   "cell_type": "code",
   "execution_count": 156,
   "metadata": {},
   "outputs": [],
   "source": [
    "lm = LinearRegression()\n",
    "lm.fit(X_train,y_train)\n",
    "\n",
    "predictions = lm.predict(X_test)"
   ]
  },
  {
   "cell_type": "code",
   "execution_count": 157,
   "metadata": {},
   "outputs": [
    {
     "name": "stdout",
     "output_type": "stream",
     "text": [
      "[93.69971138183945, 6.935751139020478, 0.36281411083579396, 0.9825321625820731]\n"
     ]
    }
   ],
   "source": [
    "rmse=np.sqrt(metrics.mean_squared_error(y_test, predictions))\n",
    "var_rmse.append(rmse)\n",
    "\n",
    "print(var_rmse)"
   ]
  },
  {
   "cell_type": "markdown",
   "metadata": {},
   "source": [
    "## For 'T2', applying Linear Reression, predicting values and finding RMSE"
   ]
  },
  {
   "cell_type": "code",
   "execution_count": 158,
   "metadata": {},
   "outputs": [
    {
     "name": "stdout",
     "output_type": "stream",
     "text": [
      "(14803, 25)\n",
      "(14803,)\n",
      "(4932, 25)\n",
      "(4932,)\n"
     ]
    }
   ],
   "source": [
    "X_train = read_trainingdata[['Appliances','lights', 'T1', 'RH_1', 'RH_2', 'T3', 'RH_3', 'T4', 'RH_4', 'T5',\n",
    "       'RH_5', 'T6', 'RH_6', 'T7', 'RH_7', 'T8', 'RH_8', 'T9', 'RH_9', 'T_out',\n",
    "       'Press_mm_hg', 'RH_out', 'Windspeed', 'Visibility', 'Tdewpoint']]\n",
    "print (X_train.shape)\n",
    "\n",
    "y_train = read_trainingdata['T2']\n",
    "print (y_train.shape)\n",
    "\n",
    "\n",
    "\n",
    "X_test = read_testingdata[['Appliances','lights', 'T1', 'RH_1', 'RH_2', 'T3', 'RH_3', 'T4', 'RH_4', 'T5',\n",
    "       'RH_5', 'T6', 'RH_6', 'T7', 'RH_7', 'T8', 'RH_8', 'T9', 'RH_9', 'T_out',\n",
    "       'Press_mm_hg', 'RH_out', 'Windspeed', 'Visibility', 'Tdewpoint']]\n",
    "print (X_test.shape)\n",
    "\n",
    "y_test = read_testingdata['T2']\n",
    "print (y_test.shape)"
   ]
  },
  {
   "cell_type": "code",
   "execution_count": 159,
   "metadata": {},
   "outputs": [],
   "source": [
    "lm = LinearRegression()\n",
    "lm.fit(X_train,y_train)\n",
    "\n",
    "predictions = lm.predict(X_test)"
   ]
  },
  {
   "cell_type": "code",
   "execution_count": 160,
   "metadata": {},
   "outputs": [
    {
     "name": "stdout",
     "output_type": "stream",
     "text": [
      "[93.69971138183945, 6.935751139020478, 0.36281411083579396, 0.9825321625820731, 0.4096827284605115]\n"
     ]
    }
   ],
   "source": [
    "rmse=np.sqrt(metrics.mean_squared_error(y_test, predictions))\n",
    "var_rmse.append(rmse)\n",
    "\n",
    "print(var_rmse)"
   ]
  },
  {
   "cell_type": "markdown",
   "metadata": {},
   "source": [
    "## For 'RH_2', applying Linear Reression, predicting values and finding RMSE"
   ]
  },
  {
   "cell_type": "code",
   "execution_count": 161,
   "metadata": {},
   "outputs": [
    {
     "name": "stdout",
     "output_type": "stream",
     "text": [
      "(14803, 25)\n",
      "(14803,)\n",
      "(4932, 25)\n",
      "(4932,)\n"
     ]
    }
   ],
   "source": [
    "X_train = read_trainingdata[['Appliances','lights', 'T1', 'RH_1', 'T2', 'T3', 'RH_3', 'T4', 'RH_4', 'T5',\n",
    "       'RH_5', 'T6', 'RH_6', 'T7', 'RH_7', 'T8', 'RH_8', 'T9', 'RH_9', 'T_out',\n",
    "       'Press_mm_hg', 'RH_out', 'Windspeed', 'Visibility', 'Tdewpoint']]\n",
    "print (X_train.shape)\n",
    "\n",
    "y_train = read_trainingdata['RH_2']\n",
    "print (y_train.shape)\n",
    "\n",
    "\n",
    "\n",
    "X_test = read_testingdata[['Appliances','lights', 'T1', 'RH_1', 'T2', 'T3', 'RH_3', 'T4', 'RH_4', 'T5',\n",
    "       'RH_5', 'T6', 'RH_6', 'T7', 'RH_7', 'T8', 'RH_8', 'T9', 'RH_9', 'T_out',\n",
    "       'Press_mm_hg', 'RH_out', 'Windspeed', 'Visibility', 'Tdewpoint']]\n",
    "print (X_test.shape)\n",
    "\n",
    "y_test = read_testingdata['RH_2']\n",
    "print (y_test.shape)"
   ]
  },
  {
   "cell_type": "code",
   "execution_count": 162,
   "metadata": {},
   "outputs": [],
   "source": [
    "lm = LinearRegression()\n",
    "lm.fit(X_train,y_train)\n",
    "\n",
    "predictions = lm.predict(X_test)"
   ]
  },
  {
   "cell_type": "code",
   "execution_count": 163,
   "metadata": {},
   "outputs": [
    {
     "name": "stdout",
     "output_type": "stream",
     "text": [
      "[93.69971138183945, 6.935751139020478, 0.36281411083579396, 0.9825321625820731, 0.4096827284605115, 0.8609176572970106]\n"
     ]
    }
   ],
   "source": [
    "rmse=np.sqrt(metrics.mean_squared_error(y_test, predictions))\n",
    "var_rmse.append(rmse)\n",
    "\n",
    "print(var_rmse)"
   ]
  },
  {
   "cell_type": "markdown",
   "metadata": {},
   "source": [
    "## For 'T3', applying Linear Reression, predicting values and finding RMSE"
   ]
  },
  {
   "cell_type": "code",
   "execution_count": 164,
   "metadata": {},
   "outputs": [
    {
     "name": "stdout",
     "output_type": "stream",
     "text": [
      "(14803, 25)\n",
      "(14803,)\n",
      "(4932, 25)\n",
      "(4932,)\n"
     ]
    }
   ],
   "source": [
    "X_train = read_trainingdata[['Appliances','lights', 'T1', 'RH_1', 'T2', 'RH_2', 'RH_3', 'T4', 'RH_4', 'T5',\n",
    "       'RH_5', 'T6', 'RH_6', 'T7', 'RH_7', 'T8', 'RH_8', 'T9', 'RH_9', 'T_out',\n",
    "       'Press_mm_hg', 'RH_out', 'Windspeed', 'Visibility', 'Tdewpoint']]\n",
    "print (X_train.shape)\n",
    "\n",
    "y_train = read_trainingdata['T3']\n",
    "print (y_train.shape)\n",
    "\n",
    "\n",
    "\n",
    "X_test = read_testingdata[['Appliances','lights', 'T1', 'RH_1', 'T2', 'RH_2', 'RH_3', 'T4', 'RH_4', 'T5',\n",
    "       'RH_5', 'T6', 'RH_6', 'T7', 'RH_7', 'T8', 'RH_8', 'T9', 'RH_9', 'T_out',\n",
    "       'Press_mm_hg', 'RH_out', 'Windspeed', 'Visibility', 'Tdewpoint']]\n",
    "print (X_test.shape)\n",
    "\n",
    "y_test = read_testingdata['T3']\n",
    "print (y_test.shape)"
   ]
  },
  {
   "cell_type": "code",
   "execution_count": 165,
   "metadata": {},
   "outputs": [],
   "source": [
    "lm = LinearRegression()\n",
    "lm.fit(X_train,y_train)\n",
    "\n",
    "predictions = lm.predict(X_test)"
   ]
  },
  {
   "cell_type": "code",
   "execution_count": 166,
   "metadata": {},
   "outputs": [
    {
     "name": "stdout",
     "output_type": "stream",
     "text": [
      "[93.69971138183945, 6.935751139020478, 0.36281411083579396, 0.9825321625820731, 0.4096827284605115, 0.8609176572970106, 0.6259966161862173]\n"
     ]
    }
   ],
   "source": [
    "rmse=np.sqrt(metrics.mean_squared_error(y_test, predictions))\n",
    "var_rmse.append(rmse)\n",
    "\n",
    "print(var_rmse)"
   ]
  },
  {
   "cell_type": "markdown",
   "metadata": {},
   "source": [
    "## For 'RH_3', applying Linear Reression, predicting values and finding RMSE"
   ]
  },
  {
   "cell_type": "code",
   "execution_count": 167,
   "metadata": {},
   "outputs": [
    {
     "name": "stdout",
     "output_type": "stream",
     "text": [
      "(14803, 25)\n",
      "(14803,)\n",
      "(4932, 25)\n",
      "(4932,)\n"
     ]
    }
   ],
   "source": [
    "X_train = read_trainingdata[['Appliances','lights', 'T1', 'RH_1', 'T2', 'RH_2', 'T3', 'T4', 'RH_4', 'T5',\n",
    "       'RH_5', 'T6', 'RH_6', 'T7', 'RH_7', 'T8', 'RH_8', 'T9', 'RH_9', 'T_out',\n",
    "       'Press_mm_hg', 'RH_out', 'Windspeed', 'Visibility', 'Tdewpoint']]\n",
    "print (X_train.shape)\n",
    "\n",
    "y_train = read_trainingdata['RH_3']\n",
    "print (y_train.shape)\n",
    "\n",
    "\n",
    "\n",
    "X_test = read_testingdata[['Appliances','lights', 'T1', 'RH_1', 'T2', 'RH_2', 'T3', 'T4', 'RH_4', 'T5',\n",
    "       'RH_5', 'T6', 'RH_6', 'T7', 'RH_7', 'T8', 'RH_8', 'T9', 'RH_9', 'T_out',\n",
    "       'Press_mm_hg', 'RH_out', 'Windspeed', 'Visibility', 'Tdewpoint']]\n",
    "print (X_test.shape)\n",
    "\n",
    "y_test = read_testingdata['RH_3']\n",
    "print (y_test.shape)"
   ]
  },
  {
   "cell_type": "code",
   "execution_count": 168,
   "metadata": {},
   "outputs": [],
   "source": [
    "lm = LinearRegression()\n",
    "lm.fit(X_train,y_train)\n",
    "\n",
    "predictions = lm.predict(X_test)"
   ]
  },
  {
   "cell_type": "code",
   "execution_count": 169,
   "metadata": {},
   "outputs": [
    {
     "name": "stdout",
     "output_type": "stream",
     "text": [
      "[93.69971138183945, 6.935751139020478, 0.36281411083579396, 0.9825321625820731, 0.4096827284605115, 0.8609176572970106, 0.6259966161862173, 0.9934130349707956]\n"
     ]
    }
   ],
   "source": [
    "rmse=np.sqrt(metrics.mean_squared_error(y_test, predictions))\n",
    "var_rmse.append(rmse)\n",
    "\n",
    "print(var_rmse)"
   ]
  },
  {
   "cell_type": "markdown",
   "metadata": {},
   "source": [
    "## For 'T4', applying Linear Reression, predicting values and finding RMSE"
   ]
  },
  {
   "cell_type": "code",
   "execution_count": 170,
   "metadata": {},
   "outputs": [],
   "source": [
    "lm = LinearRegression()\n",
    "lm.fit(X_train,y_train)\n",
    "\n",
    "predictions = lm.predict(X_test)"
   ]
  },
  {
   "cell_type": "code",
   "execution_count": 171,
   "metadata": {},
   "outputs": [
    {
     "name": "stdout",
     "output_type": "stream",
     "text": [
      "[93.69971138183945, 6.935751139020478, 0.36281411083579396, 0.9825321625820731, 0.4096827284605115, 0.8609176572970106, 0.6259966161862173, 0.9934130349707956, 0.9934130349707956]\n"
     ]
    }
   ],
   "source": [
    "rmse=np.sqrt(metrics.mean_squared_error(y_test, predictions))\n",
    "var_rmse.append(rmse)\n",
    "\n",
    "print(var_rmse)"
   ]
  },
  {
   "cell_type": "markdown",
   "metadata": {},
   "source": [
    "## For 'RH_4', applying Linear Reression, predicting values and finding RMSE"
   ]
  },
  {
   "cell_type": "code",
   "execution_count": 172,
   "metadata": {},
   "outputs": [
    {
     "name": "stdout",
     "output_type": "stream",
     "text": [
      "(14803, 25)\n",
      "(14803,)\n",
      "(4932, 25)\n",
      "(4932,)\n"
     ]
    }
   ],
   "source": [
    "X_train = read_trainingdata[['Appliances','lights', 'T1', 'RH_1', 'T2', 'RH_2', 'T3', 'RH_3', 'T4', 'T5',\n",
    "       'RH_5', 'T6', 'RH_6', 'T7', 'RH_7', 'T8', 'RH_8', 'T9', 'RH_9', 'T_out',\n",
    "       'Press_mm_hg', 'RH_out', 'Windspeed', 'Visibility', 'Tdewpoint']]\n",
    "print (X_train.shape)\n",
    "\n",
    "y_train = read_trainingdata['RH_4']\n",
    "print (y_train.shape)\n",
    "\n",
    "\n",
    "\n",
    "X_test = read_testingdata[['Appliances','lights', 'T1', 'RH_1', 'T2', 'RH_2', 'T3', 'RH_3', 'T4', 'T5',\n",
    "       'RH_5', 'T6', 'RH_6', 'T7', 'RH_7', 'T8', 'RH_8', 'T9', 'RH_9', 'T_out',\n",
    "       'Press_mm_hg', 'RH_out', 'Windspeed', 'Visibility', 'Tdewpoint']]\n",
    "print (X_test.shape)\n",
    "\n",
    "y_test = read_testingdata['RH_4']\n",
    "print (y_test.shape)"
   ]
  },
  {
   "cell_type": "code",
   "execution_count": 173,
   "metadata": {},
   "outputs": [
    {
     "name": "stdout",
     "output_type": "stream",
     "text": [
      "(14803, 25)\n",
      "(14803,)\n",
      "(4932, 25)\n",
      "(4932,)\n"
     ]
    }
   ],
   "source": [
    "X_train = read_trainingdata[['Appliances','lights', 'T1', 'RH_1', 'T2', 'RH_2', 'T3', 'RH_3', 'RH_4', 'T5',\n",
    "       'RH_5', 'T6', 'RH_6', 'T7', 'RH_7', 'T8', 'RH_8', 'T9', 'RH_9', 'T_out',\n",
    "       'Press_mm_hg', 'RH_out', 'Windspeed', 'Visibility', 'Tdewpoint']]\n",
    "print (X_train.shape)\n",
    "\n",
    "y_train = read_trainingdata['T4']\n",
    "print (y_train.shape)\n",
    "\n",
    "\n",
    "\n",
    "X_test = read_testingdata[['Appliances','lights', 'T1', 'RH_1', 'T2', 'RH_2', 'T3', 'RH_3', 'RH_4', 'T5',\n",
    "       'RH_5', 'T6', 'RH_6', 'T7', 'RH_7', 'T8', 'RH_8', 'T9', 'RH_9', 'T_out',\n",
    "       'Press_mm_hg', 'RH_out', 'Windspeed', 'Visibility', 'Tdewpoint']]\n",
    "print (X_test.shape)\n",
    "\n",
    "y_test = read_testingdata['T4']\n",
    "print (y_test.shape)"
   ]
  },
  {
   "cell_type": "code",
   "execution_count": 174,
   "metadata": {},
   "outputs": [],
   "source": [
    "lm = LinearRegression()\n",
    "lm.fit(X_train,y_train)\n",
    "\n",
    "predictions = lm.predict(X_test)"
   ]
  },
  {
   "cell_type": "code",
   "execution_count": 175,
   "metadata": {},
   "outputs": [
    {
     "name": "stdout",
     "output_type": "stream",
     "text": [
      "[93.69971138183945, 6.935751139020478, 0.36281411083579396, 0.9825321625820731, 0.4096827284605115, 0.8609176572970106, 0.6259966161862173, 0.9934130349707956, 0.9934130349707956, 0.6418300146930508]\n"
     ]
    }
   ],
   "source": [
    "rmse=np.sqrt(metrics.mean_squared_error(y_test, predictions))\n",
    "var_rmse.append(rmse)\n",
    "\n",
    "print(var_rmse)"
   ]
  },
  {
   "cell_type": "markdown",
   "metadata": {},
   "source": [
    "## For 'T5', applying Linear Reression, predicting values and finding RMSE"
   ]
  },
  {
   "cell_type": "code",
   "execution_count": 176,
   "metadata": {},
   "outputs": [
    {
     "name": "stdout",
     "output_type": "stream",
     "text": [
      "(14803, 25)\n",
      "(14803,)\n",
      "(4932, 25)\n",
      "(4932,)\n"
     ]
    }
   ],
   "source": [
    "X_train = read_trainingdata[['Appliances','lights', 'T1', 'RH_1', 'T2', 'RH_2', 'T3', 'RH_3', 'T4', 'RH_4',\n",
    "       'RH_5', 'T6', 'RH_6', 'T7', 'RH_7', 'T8', 'RH_8', 'T9', 'RH_9', 'T_out',\n",
    "       'Press_mm_hg', 'RH_out', 'Windspeed', 'Visibility', 'Tdewpoint']]\n",
    "print (X_train.shape)\n",
    "\n",
    "y_train = read_trainingdata['T5']\n",
    "print (y_train.shape)\n",
    "\n",
    "\n",
    "\n",
    "X_test = read_testingdata[['Appliances','lights', 'T1', 'RH_1', 'T2', 'RH_2', 'T3', 'RH_3', 'T4', 'RH_4',\n",
    "       'RH_5', 'T6', 'RH_6', 'T7', 'RH_7', 'T8', 'RH_8', 'T9', 'RH_9', 'T_out',\n",
    "       'Press_mm_hg', 'RH_out', 'Windspeed', 'Visibility', 'Tdewpoint']]\n",
    "print (X_test.shape)\n",
    "\n",
    "y_test = read_testingdata['T5']\n",
    "print (y_test.shape)"
   ]
  },
  {
   "cell_type": "code",
   "execution_count": 177,
   "metadata": {},
   "outputs": [],
   "source": [
    "lm = LinearRegression()\n",
    "lm.fit(X_train,y_train)\n",
    "\n",
    "predictions = lm.predict(X_test)"
   ]
  },
  {
   "cell_type": "code",
   "execution_count": 178,
   "metadata": {},
   "outputs": [
    {
     "name": "stdout",
     "output_type": "stream",
     "text": [
      "[93.69971138183945, 6.935751139020478, 0.36281411083579396, 0.9825321625820731, 0.4096827284605115, 0.8609176572970106, 0.6259966161862173, 0.9934130349707956, 0.9934130349707956, 0.6418300146930508, 0.5694360398465498]\n"
     ]
    }
   ],
   "source": [
    "rmse=np.sqrt(metrics.mean_squared_error(y_test, predictions))\n",
    "var_rmse.append(rmse)\n",
    "\n",
    "print(var_rmse)"
   ]
  },
  {
   "cell_type": "markdown",
   "metadata": {},
   "source": [
    "## For 'RH_5', applying Linear Reression, predicting values and finding RMSE"
   ]
  },
  {
   "cell_type": "code",
   "execution_count": 179,
   "metadata": {},
   "outputs": [
    {
     "name": "stdout",
     "output_type": "stream",
     "text": [
      "(14803, 25)\n",
      "(14803,)\n",
      "(4932, 25)\n",
      "(4932,)\n"
     ]
    }
   ],
   "source": [
    "X_train = read_trainingdata[['Appliances','lights', 'T1', 'RH_1', 'T2', 'RH_2', 'T3', 'RH_3', 'T4', 'RH_4', 'T5', 'T6', 'RH_6', 'T7', 'RH_7', 'T8', 'RH_8', 'T9', 'RH_9', 'T_out',\n",
    "       'Press_mm_hg', 'RH_out', 'Windspeed', 'Visibility', 'Tdewpoint']]\n",
    "print (X_train.shape)\n",
    "\n",
    "y_train = read_trainingdata['RH_5']\n",
    "print (y_train.shape)\n",
    "\n",
    "\n",
    "\n",
    "X_test = read_testingdata[['Appliances','lights', 'T1', 'RH_1', 'T2', 'RH_2', 'T3', 'RH_3', 'T4', 'RH_4', 'T5', 'T6', 'RH_6', 'T7', 'RH_7', 'T8', 'RH_8', 'T9', 'RH_9', 'T_out',\n",
    "       'Press_mm_hg', 'RH_out', 'Windspeed', 'Visibility', 'Tdewpoint']]\n",
    "print (X_test.shape)\n",
    "\n",
    "y_test = read_testingdata['RH_5']\n",
    "print (y_test.shape)"
   ]
  },
  {
   "cell_type": "code",
   "execution_count": 180,
   "metadata": {},
   "outputs": [],
   "source": [
    "lm = LinearRegression()\n",
    "lm.fit(X_train,y_train)\n",
    "\n",
    "predictions = lm.predict(X_test)"
   ]
  },
  {
   "cell_type": "code",
   "execution_count": 181,
   "metadata": {},
   "outputs": [
    {
     "name": "stdout",
     "output_type": "stream",
     "text": [
      "[93.69971138183945, 6.935751139020478, 0.36281411083579396, 0.9825321625820731, 0.4096827284605115, 0.8609176572970106, 0.6259966161862173, 0.9934130349707956, 0.9934130349707956, 0.6418300146930508, 0.5694360398465498, 7.667678577853667]\n"
     ]
    }
   ],
   "source": [
    "rmse=np.sqrt(metrics.mean_squared_error(y_test, predictions))\n",
    "var_rmse.append(rmse)\n",
    "\n",
    "print(var_rmse)"
   ]
  },
  {
   "cell_type": "markdown",
   "metadata": {},
   "source": [
    "## For 'T6', applying Linear Reression, predicting values and finding RMSE"
   ]
  },
  {
   "cell_type": "code",
   "execution_count": 182,
   "metadata": {},
   "outputs": [
    {
     "name": "stdout",
     "output_type": "stream",
     "text": [
      "(14803, 25)\n",
      "(14803,)\n",
      "(4932, 25)\n",
      "(4932,)\n"
     ]
    }
   ],
   "source": [
    "X_train = read_trainingdata[['Appliances','lights', 'T1', 'RH_1', 'T2', 'RH_2', 'T3', 'RH_3', 'T4', 'RH_4', 'T5',\n",
    "       'RH_5', 'RH_6', 'T7', 'RH_7', 'T8', 'RH_8', 'T9', 'RH_9', 'T_out',\n",
    "       'Press_mm_hg', 'RH_out', 'Windspeed', 'Visibility', 'Tdewpoint']]\n",
    "print (X_train.shape)\n",
    "\n",
    "y_train = read_trainingdata['T6']\n",
    "print (y_train.shape)\n",
    "\n",
    "\n",
    "\n",
    "X_test = read_testingdata[['Appliances','lights', 'T1', 'RH_1', 'T2', 'RH_2', 'T3', 'RH_3', 'T4', 'RH_4', 'T5',\n",
    "       'RH_5', 'RH_6', 'T7', 'RH_7', 'T8', 'RH_8', 'T9', 'RH_9', 'T_out',\n",
    "       'Press_mm_hg', 'RH_out', 'Windspeed', 'Visibility', 'Tdewpoint']]\n",
    "print (X_test.shape)\n",
    "\n",
    "y_test = read_testingdata['T6']\n",
    "print (y_test.shape)"
   ]
  },
  {
   "cell_type": "code",
   "execution_count": 183,
   "metadata": {},
   "outputs": [],
   "source": [
    "lm = LinearRegression()\n",
    "lm.fit(X_train,y_train)\n",
    "\n",
    "predictions = lm.predict(X_test)"
   ]
  },
  {
   "cell_type": "code",
   "execution_count": 184,
   "metadata": {},
   "outputs": [
    {
     "name": "stdout",
     "output_type": "stream",
     "text": [
      "[93.69971138183945, 6.935751139020478, 0.36281411083579396, 0.9825321625820731, 0.4096827284605115, 0.8609176572970106, 0.6259966161862173, 0.9934130349707956, 0.9934130349707956, 0.6418300146930508, 0.5694360398465498, 7.667678577853667, 1.0380247689247422]\n"
     ]
    }
   ],
   "source": [
    "rmse=np.sqrt(metrics.mean_squared_error(y_test, predictions))\n",
    "var_rmse.append(rmse)\n",
    "\n",
    "print(var_rmse)"
   ]
  },
  {
   "cell_type": "markdown",
   "metadata": {},
   "source": [
    "## For 'RH_6', applying Linear Reression, predicting values and finding RMSE"
   ]
  },
  {
   "cell_type": "code",
   "execution_count": 185,
   "metadata": {},
   "outputs": [
    {
     "name": "stdout",
     "output_type": "stream",
     "text": [
      "(14803, 25)\n",
      "(14803,)\n",
      "(4932, 25)\n",
      "(4932,)\n"
     ]
    }
   ],
   "source": [
    "X_train = read_trainingdata[['Appliances','lights', 'T1', 'RH_1', 'T2', 'RH_2', 'T3', 'RH_3', 'T4', 'RH_4', 'T5',\n",
    "       'RH_5', 'T6', 'T7', 'RH_7', 'T8', 'RH_8', 'T9', 'RH_9', 'T_out',\n",
    "       'Press_mm_hg', 'RH_out', 'Windspeed', 'Visibility', 'Tdewpoint']]\n",
    "print (X_train.shape)\n",
    "\n",
    "y_train = read_trainingdata['RH_6']\n",
    "print (y_train.shape)\n",
    "\n",
    "\n",
    "\n",
    "X_test = read_testingdata[['Appliances','lights', 'T1', 'RH_1', 'T2', 'RH_2', 'T3', 'RH_3', 'T4', 'RH_4', 'T5',\n",
    "       'RH_5', 'T6', 'T7', 'RH_7', 'T8', 'RH_8', 'T9', 'RH_9', 'T_out',\n",
    "       'Press_mm_hg', 'RH_out', 'Windspeed', 'Visibility', 'Tdewpoint']]\n",
    "print (X_test.shape)\n",
    "\n",
    "y_test = read_testingdata['RH_6']\n",
    "print (y_test.shape)"
   ]
  },
  {
   "cell_type": "code",
   "execution_count": 186,
   "metadata": {},
   "outputs": [],
   "source": [
    "lm = LinearRegression()\n",
    "lm.fit(X_train,y_train)\n",
    "\n",
    "predictions = lm.predict(X_test)"
   ]
  },
  {
   "cell_type": "code",
   "execution_count": 187,
   "metadata": {},
   "outputs": [
    {
     "name": "stdout",
     "output_type": "stream",
     "text": [
      "[93.69971138183945, 6.935751139020478, 0.36281411083579396, 0.9825321625820731, 0.4096827284605115, 0.8609176572970106, 0.6259966161862173, 0.9934130349707956, 0.9934130349707956, 0.6418300146930508, 0.5694360398465498, 7.667678577853667, 1.0380247689247422, 9.82597949386173]\n"
     ]
    }
   ],
   "source": [
    "rmse=np.sqrt(metrics.mean_squared_error(y_test, predictions))\n",
    "var_rmse.append(rmse)\n",
    "\n",
    "print(var_rmse)"
   ]
  },
  {
   "cell_type": "markdown",
   "metadata": {},
   "source": [
    "## For 'T7', applying Linear Reression, predicting values and finding RMSE"
   ]
  },
  {
   "cell_type": "code",
   "execution_count": 188,
   "metadata": {},
   "outputs": [
    {
     "name": "stdout",
     "output_type": "stream",
     "text": [
      "(14803, 25)\n",
      "(14803,)\n",
      "(4932, 25)\n",
      "(4932,)\n"
     ]
    }
   ],
   "source": [
    "X_train = read_trainingdata[['Appliances','lights', 'T1', 'RH_1', 'T2', 'RH_2', 'T3', 'RH_3', 'T4', 'RH_4', 'T5',\n",
    "       'RH_5', 'T6', 'RH_6', 'RH_7', 'T8', 'RH_8', 'T9', 'RH_9', 'T_out',\n",
    "       'Press_mm_hg', 'RH_out', 'Windspeed', 'Visibility', 'Tdewpoint']]\n",
    "print (X_train.shape)\n",
    "\n",
    "y_train = read_trainingdata['T7']\n",
    "print (y_train.shape)\n",
    "\n",
    "\n",
    "\n",
    "X_test = read_testingdata[['Appliances','lights', 'T1', 'RH_1', 'T2', 'RH_2', 'T3', 'RH_3', 'T4', 'RH_4', 'T5',\n",
    "       'RH_5', 'T6', 'RH_6', 'RH_7', 'T8', 'RH_8', 'T9', 'RH_9', 'T_out',\n",
    "       'Press_mm_hg', 'RH_out', 'Windspeed', 'Visibility', 'Tdewpoint']]\n",
    "print (X_test.shape)\n",
    "\n",
    "y_test = read_testingdata['T7']\n",
    "print (y_test.shape)"
   ]
  },
  {
   "cell_type": "code",
   "execution_count": 189,
   "metadata": {},
   "outputs": [],
   "source": [
    "lm = LinearRegression()\n",
    "lm.fit(X_train,y_train)\n",
    "\n",
    "predictions = lm.predict(X_test)"
   ]
  },
  {
   "cell_type": "code",
   "execution_count": 190,
   "metadata": {},
   "outputs": [
    {
     "name": "stdout",
     "output_type": "stream",
     "text": [
      "[93.69971138183945, 6.935751139020478, 0.36281411083579396, 0.9825321625820731, 0.4096827284605115, 0.8609176572970106, 0.6259966161862173, 0.9934130349707956, 0.9934130349707956, 0.6418300146930508, 0.5694360398465498, 7.667678577853667, 1.0380247689247422, 9.82597949386173, 0.4945656300964366]\n"
     ]
    }
   ],
   "source": [
    "rmse=np.sqrt(metrics.mean_squared_error(y_test, predictions))\n",
    "var_rmse.append(rmse)\n",
    "\n",
    "print(var_rmse)"
   ]
  },
  {
   "cell_type": "markdown",
   "metadata": {},
   "source": [
    "## For 'RH_7', applying Linear Reression, predicting values and finding RMSE"
   ]
  },
  {
   "cell_type": "code",
   "execution_count": 191,
   "metadata": {},
   "outputs": [
    {
     "name": "stdout",
     "output_type": "stream",
     "text": [
      "(14803, 25)\n",
      "(14803,)\n",
      "(4932, 25)\n",
      "(4932,)\n"
     ]
    }
   ],
   "source": [
    "X_train = read_trainingdata[['Appliances','lights', 'T1', 'RH_1', 'T2', 'RH_2', 'T3', 'RH_3', 'T4', 'RH_4', 'T5',\n",
    "       'RH_5', 'T6', 'RH_6', 'T7', 'T8', 'RH_8', 'T9', 'RH_9', 'T_out',\n",
    "       'Press_mm_hg', 'RH_out', 'Windspeed', 'Visibility', 'Tdewpoint']]\n",
    "print (X_train.shape)\n",
    "\n",
    "y_train = read_trainingdata['RH_7']\n",
    "print (y_train.shape)\n",
    "\n",
    "\n",
    "\n",
    "X_test = read_testingdata[['Appliances','lights', 'T1', 'RH_1', 'T2', 'RH_2', 'T3', 'RH_3', 'T4', 'RH_4', 'T5',\n",
    "       'RH_5', 'T6', 'RH_6', 'T7', 'T8', 'RH_8', 'T9', 'RH_9', 'T_out',\n",
    "       'Press_mm_hg', 'RH_out', 'Windspeed', 'Visibility', 'Tdewpoint']]\n",
    "print (X_test.shape)\n",
    "\n",
    "y_test = read_testingdata['RH_7']\n",
    "print (y_test.shape)"
   ]
  },
  {
   "cell_type": "code",
   "execution_count": 192,
   "metadata": {},
   "outputs": [],
   "source": [
    "lm = LinearRegression()\n",
    "lm.fit(X_train,y_train)\n",
    "\n",
    "predictions = lm.predict(X_test)"
   ]
  },
  {
   "cell_type": "code",
   "execution_count": 193,
   "metadata": {},
   "outputs": [
    {
     "name": "stdout",
     "output_type": "stream",
     "text": [
      "[93.69971138183945, 6.935751139020478, 0.36281411083579396, 0.9825321625820731, 0.4096827284605115, 0.8609176572970106, 0.6259966161862173, 0.9934130349707956, 0.9934130349707956, 0.6418300146930508, 0.5694360398465498, 7.667678577853667, 1.0380247689247422, 9.82597949386173, 0.4945656300964366, 1.5671763279068076]\n"
     ]
    }
   ],
   "source": [
    "rmse=np.sqrt(metrics.mean_squared_error(y_test, predictions))\n",
    "var_rmse.append(rmse)\n",
    "\n",
    "print(var_rmse)"
   ]
  },
  {
   "cell_type": "markdown",
   "metadata": {},
   "source": [
    "## For 'T8', applying Linear Reression, predicting values and finding RMSE"
   ]
  },
  {
   "cell_type": "code",
   "execution_count": 194,
   "metadata": {},
   "outputs": [
    {
     "name": "stdout",
     "output_type": "stream",
     "text": [
      "(14803, 25)\n",
      "(14803,)\n",
      "(4932, 25)\n",
      "(4932,)\n"
     ]
    }
   ],
   "source": [
    "X_train = read_trainingdata[['Appliances','lights', 'T1', 'RH_1', 'T2', 'RH_2', 'T3', 'RH_3', 'T4', 'RH_4', 'T5',\n",
    "       'RH_5', 'T6', 'RH_6', 'T7', 'RH_7', 'RH_8', 'T9', 'RH_9', 'T_out',\n",
    "       'Press_mm_hg', 'RH_out', 'Windspeed', 'Visibility', 'Tdewpoint']]\n",
    "print (X_train.shape)\n",
    "\n",
    "y_train = read_trainingdata['T8']\n",
    "print (y_train.shape)\n",
    "\n",
    "\n",
    "\n",
    "X_test = read_testingdata[['Appliances','lights', 'T1', 'RH_1', 'T2', 'RH_2', 'T3', 'RH_3', 'T4', 'RH_4', 'T5',\n",
    "       'RH_5', 'T6', 'RH_6', 'T7', 'RH_7', 'RH_8', 'T9', 'RH_9', 'T_out',\n",
    "       'Press_mm_hg', 'RH_out', 'Windspeed', 'Visibility', 'Tdewpoint']]\n",
    "print (X_test.shape)\n",
    "\n",
    "y_test = read_testingdata['T8']\n",
    "print (y_test.shape)"
   ]
  },
  {
   "cell_type": "code",
   "execution_count": 195,
   "metadata": {},
   "outputs": [],
   "source": [
    "lm = LinearRegression()\n",
    "lm.fit(X_train,y_train)\n",
    "\n",
    "predictions = lm.predict(X_test)"
   ]
  },
  {
   "cell_type": "code",
   "execution_count": 196,
   "metadata": {},
   "outputs": [
    {
     "name": "stdout",
     "output_type": "stream",
     "text": [
      "[93.69971138183945, 6.935751139020478, 0.36281411083579396, 0.9825321625820731, 0.4096827284605115, 0.8609176572970106, 0.6259966161862173, 0.9934130349707956, 0.9934130349707956, 0.6418300146930508, 0.5694360398465498, 7.667678577853667, 1.0380247689247422, 9.82597949386173, 0.4945656300964366, 1.5671763279068076, 0.6713985935354236]\n"
     ]
    }
   ],
   "source": [
    "rmse=np.sqrt(metrics.mean_squared_error(y_test, predictions))\n",
    "var_rmse.append(rmse)\n",
    "\n",
    "print(var_rmse)"
   ]
  },
  {
   "cell_type": "markdown",
   "metadata": {},
   "source": [
    "## For 'RH_8', applying Linear Reression, predicting values and finding RMSE"
   ]
  },
  {
   "cell_type": "code",
   "execution_count": 197,
   "metadata": {},
   "outputs": [
    {
     "name": "stdout",
     "output_type": "stream",
     "text": [
      "(14803, 25)\n",
      "(14803,)\n",
      "(4932, 25)\n",
      "(4932,)\n"
     ]
    }
   ],
   "source": [
    "X_train = read_trainingdata[['Appliances','lights', 'T1', 'RH_1', 'T2', 'RH_2', 'T3', 'RH_3', 'T4', 'RH_4', 'T5',\n",
    "       'RH_5', 'T6', 'RH_6', 'T7', 'RH_7', 'T8', 'T9', 'RH_9', 'T_out',\n",
    "       'Press_mm_hg', 'RH_out', 'Windspeed', 'Visibility', 'Tdewpoint']]\n",
    "print (X_train.shape)\n",
    "\n",
    "y_train = read_trainingdata['RH_8']\n",
    "print (y_train.shape)\n",
    "\n",
    "\n",
    "\n",
    "X_test = read_testingdata[['Appliances','lights', 'T1', 'RH_1', 'T2', 'RH_2', 'T3', 'RH_3', 'T4', 'RH_4', 'T5',\n",
    "       'RH_5', 'T6', 'RH_6', 'T7', 'RH_7', 'T8', 'T9', 'RH_9', 'T_out',\n",
    "       'Press_mm_hg', 'RH_out', 'Windspeed', 'Visibility', 'Tdewpoint']]\n",
    "print (X_test.shape)\n",
    "\n",
    "y_test = read_testingdata['RH_8']\n",
    "print (y_test.shape)"
   ]
  },
  {
   "cell_type": "code",
   "execution_count": 198,
   "metadata": {},
   "outputs": [],
   "source": [
    "lm = LinearRegression()\n",
    "lm.fit(X_train,y_train)\n",
    "\n",
    "predictions = lm.predict(X_test)"
   ]
  },
  {
   "cell_type": "code",
   "execution_count": 199,
   "metadata": {},
   "outputs": [
    {
     "name": "stdout",
     "output_type": "stream",
     "text": [
      "[93.69971138183945, 6.935751139020478, 0.36281411083579396, 0.9825321625820731, 0.4096827284605115, 0.8609176572970106, 0.6259966161862173, 0.9934130349707956, 0.9934130349707956, 0.6418300146930508, 0.5694360398465498, 7.667678577853667, 1.0380247689247422, 9.82597949386173, 0.4945656300964366, 1.5671763279068076, 0.6713985935354236, 1.7860882740278792]\n"
     ]
    }
   ],
   "source": [
    "rmse=np.sqrt(metrics.mean_squared_error(y_test, predictions))\n",
    "var_rmse.append(rmse)\n",
    "\n",
    "print(var_rmse)"
   ]
  },
  {
   "cell_type": "markdown",
   "metadata": {},
   "source": [
    "## For 'T9', applying Linear Reression, predicting values and finding RMSE"
   ]
  },
  {
   "cell_type": "code",
   "execution_count": 200,
   "metadata": {},
   "outputs": [
    {
     "name": "stdout",
     "output_type": "stream",
     "text": [
      "(14803, 25)\n",
      "(14803,)\n",
      "(4932, 25)\n",
      "(4932,)\n"
     ]
    }
   ],
   "source": [
    "X_train = read_trainingdata[['Appliances','lights', 'T1', 'RH_1', 'T2', 'RH_2', 'T3', 'RH_3', 'T4', 'RH_4', 'T5',\n",
    "       'RH_5', 'T6', 'RH_6', 'T7', 'RH_7', 'T8', 'RH_8', 'RH_9', 'T_out',\n",
    "       'Press_mm_hg', 'RH_out', 'Windspeed', 'Visibility', 'Tdewpoint']]\n",
    "print (X_train.shape)\n",
    "\n",
    "y_train = read_trainingdata['T9']\n",
    "print (y_train.shape)\n",
    "\n",
    "\n",
    "\n",
    "X_test = read_testingdata[['Appliances','lights', 'T1', 'RH_1', 'T2', 'RH_2', 'T3', 'RH_3', 'T4', 'RH_4', 'T5',\n",
    "       'RH_5', 'T6', 'RH_6', 'T7', 'RH_7', 'T8', 'RH_8', 'RH_9', 'T_out',\n",
    "       'Press_mm_hg', 'RH_out', 'Windspeed', 'Visibility', 'Tdewpoint']]\n",
    "print (X_test.shape)\n",
    "\n",
    "y_test = read_testingdata['T9']\n",
    "print (y_test.shape)"
   ]
  },
  {
   "cell_type": "code",
   "execution_count": 201,
   "metadata": {},
   "outputs": [],
   "source": [
    "lm = LinearRegression()\n",
    "lm.fit(X_train,y_train)\n",
    "\n",
    "predictions = lm.predict(X_test)"
   ]
  },
  {
   "cell_type": "code",
   "execution_count": 202,
   "metadata": {},
   "outputs": [
    {
     "name": "stdout",
     "output_type": "stream",
     "text": [
      "[93.69971138183945, 6.935751139020478, 0.36281411083579396, 0.9825321625820731, 0.4096827284605115, 0.8609176572970106, 0.6259966161862173, 0.9934130349707956, 0.9934130349707956, 0.6418300146930508, 0.5694360398465498, 7.667678577853667, 1.0380247689247422, 9.82597949386173, 0.4945656300964366, 1.5671763279068076, 0.6713985935354236, 1.7860882740278792, 0.37693892413022406]\n"
     ]
    }
   ],
   "source": [
    "rmse=np.sqrt(metrics.mean_squared_error(y_test, predictions))\n",
    "var_rmse.append(rmse)\n",
    "\n",
    "print(var_rmse)"
   ]
  },
  {
   "cell_type": "markdown",
   "metadata": {},
   "source": [
    "## For 'RH_9', applying Linear Reression, predicting values and finding RMSE"
   ]
  },
  {
   "cell_type": "code",
   "execution_count": 203,
   "metadata": {},
   "outputs": [
    {
     "name": "stdout",
     "output_type": "stream",
     "text": [
      "(14803, 25)\n",
      "(14803,)\n",
      "(4932, 25)\n",
      "(4932,)\n"
     ]
    }
   ],
   "source": [
    "X_train = read_trainingdata[['Appliances','lights', 'T1', 'RH_1', 'T2', 'RH_2', 'T3', 'RH_3', 'T4', 'RH_4', 'T5',\n",
    "       'RH_5', 'T6', 'RH_6', 'T7', 'RH_7', 'T8', 'RH_8', 'T9', 'T_out',\n",
    "       'Press_mm_hg', 'RH_out', 'Windspeed', 'Visibility', 'Tdewpoint']]\n",
    "print (X_train.shape)\n",
    "\n",
    "y_train = read_trainingdata['RH_9']\n",
    "print (y_train.shape)\n",
    "\n",
    "\n",
    "\n",
    "X_test = read_testingdata[['Appliances','lights', 'T1', 'RH_1', 'T2', 'RH_2', 'T3', 'RH_3', 'T4', 'RH_4', 'T5',\n",
    "       'RH_5', 'T6', 'RH_6', 'T7', 'RH_7', 'T8', 'RH_8', 'T9', 'T_out',\n",
    "       'Press_mm_hg', 'RH_out', 'Windspeed', 'Visibility', 'Tdewpoint']]\n",
    "print (X_test.shape)\n",
    "\n",
    "y_test = read_testingdata['RH_9']\n",
    "print (y_test.shape)"
   ]
  },
  {
   "cell_type": "code",
   "execution_count": 204,
   "metadata": {},
   "outputs": [],
   "source": [
    "lm = LinearRegression()\n",
    "lm.fit(X_train,y_train)\n",
    "\n",
    "predictions = lm.predict(X_test)"
   ]
  },
  {
   "cell_type": "code",
   "execution_count": 205,
   "metadata": {},
   "outputs": [
    {
     "name": "stdout",
     "output_type": "stream",
     "text": [
      "[93.69971138183945, 6.935751139020478, 0.36281411083579396, 0.9825321625820731, 0.4096827284605115, 0.8609176572970106, 0.6259966161862173, 0.9934130349707956, 0.9934130349707956, 0.6418300146930508, 0.5694360398465498, 7.667678577853667, 1.0380247689247422, 9.82597949386173, 0.4945656300964366, 1.5671763279068076, 0.6713985935354236, 1.7860882740278792, 0.37693892413022406, 1.6541929668646167]\n"
     ]
    }
   ],
   "source": [
    "rmse=np.sqrt(metrics.mean_squared_error(y_test, predictions))\n",
    "var_rmse.append(rmse)\n",
    "\n",
    "print(var_rmse)"
   ]
  },
  {
   "cell_type": "markdown",
   "metadata": {},
   "source": [
    "## For 'T_out', applying Linear Reression, predicting values and finding RMSE"
   ]
  },
  {
   "cell_type": "code",
   "execution_count": 206,
   "metadata": {},
   "outputs": [
    {
     "name": "stdout",
     "output_type": "stream",
     "text": [
      "(14803, 25)\n",
      "(14803,)\n",
      "(4932, 25)\n",
      "(4932,)\n"
     ]
    }
   ],
   "source": [
    "X_train = read_trainingdata[['Appliances','lights', 'T1', 'RH_1', 'T2', 'RH_2', 'T3', 'RH_3', 'T4', 'RH_4', 'T5',\n",
    "       'RH_5', 'T6', 'RH_6', 'T7', 'RH_7', 'T8', 'RH_8', 'T9', 'RH_9',\n",
    "       'Press_mm_hg', 'RH_out', 'Windspeed', 'Visibility', 'Tdewpoint']]\n",
    "print (X_train.shape)\n",
    "\n",
    "y_train = read_trainingdata['T_out']\n",
    "print (y_train.shape)\n",
    "\n",
    "\n",
    "\n",
    "X_test = read_testingdata[['Appliances','lights', 'T1', 'RH_1', 'T2', 'RH_2', 'T3', 'RH_3', 'T4', 'RH_4', 'T5',\n",
    "       'RH_5', 'T6', 'RH_6', 'T7', 'RH_7', 'T8', 'RH_8', 'T9', 'RH_9',\n",
    "       'Press_mm_hg', 'RH_out', 'Windspeed', 'Visibility', 'Tdewpoint']]\n",
    "print (X_test.shape)\n",
    "\n",
    "y_test = read_testingdata['T_out']\n",
    "print (y_test.shape)"
   ]
  },
  {
   "cell_type": "code",
   "execution_count": 207,
   "metadata": {},
   "outputs": [],
   "source": [
    "lm = LinearRegression()\n",
    "lm.fit(X_train,y_train)\n",
    "\n",
    "predictions = lm.predict(X_test)"
   ]
  },
  {
   "cell_type": "code",
   "execution_count": 208,
   "metadata": {},
   "outputs": [
    {
     "name": "stdout",
     "output_type": "stream",
     "text": [
      "[93.69971138183945, 6.935751139020478, 0.36281411083579396, 0.9825321625820731, 0.4096827284605115, 0.8609176572970106, 0.6259966161862173, 0.9934130349707956, 0.9934130349707956, 0.6418300146930508, 0.5694360398465498, 7.667678577853667, 1.0380247689247422, 9.82597949386173, 0.4945656300964366, 1.5671763279068076, 0.6713985935354236, 1.7860882740278792, 0.37693892413022406, 1.6541929668646167, 0.433829079853164]\n"
     ]
    }
   ],
   "source": [
    "rmse=np.sqrt(metrics.mean_squared_error(y_test, predictions))\n",
    "var_rmse.append(rmse)\n",
    "\n",
    "print(var_rmse)"
   ]
  },
  {
   "cell_type": "markdown",
   "metadata": {},
   "source": [
    "## For 'Press_mm_hg', applying Linear Reression, predicting values and finding RMSE"
   ]
  },
  {
   "cell_type": "code",
   "execution_count": 209,
   "metadata": {},
   "outputs": [
    {
     "name": "stdout",
     "output_type": "stream",
     "text": [
      "(14803, 25)\n",
      "(14803,)\n",
      "(4932, 25)\n",
      "(4932,)\n"
     ]
    }
   ],
   "source": [
    "X_train = read_trainingdata[['Appliances','lights', 'T1', 'RH_1', 'T2', 'RH_2', 'T3', 'RH_3', 'T4', 'RH_4', 'T5',\n",
    "       'RH_5', 'T6', 'RH_6', 'T7', 'RH_7', 'T8', 'RH_8', 'T9', 'RH_9', 'T_out', 'RH_out', 'Windspeed', 'Visibility', 'Tdewpoint']]\n",
    "print (X_train.shape)\n",
    "\n",
    "y_train = read_trainingdata['Press_mm_hg']\n",
    "print (y_train.shape)\n",
    "\n",
    "\n",
    "\n",
    "X_test = read_testingdata[['Appliances','lights', 'T1', 'RH_1', 'T2', 'RH_2', 'T3', 'RH_3', 'T4', 'RH_4', 'T5',\n",
    "       'RH_5', 'T6', 'RH_6', 'T7', 'RH_7', 'T8', 'RH_8', 'T9', 'RH_9', 'T_out', 'RH_out', 'Windspeed', 'Visibility', 'Tdewpoint']]\n",
    "print (X_test.shape)\n",
    "\n",
    "y_test = read_testingdata['Press_mm_hg']\n",
    "print (y_test.shape)"
   ]
  },
  {
   "cell_type": "code",
   "execution_count": 210,
   "metadata": {},
   "outputs": [],
   "source": [
    "lm = LinearRegression()\n",
    "lm.fit(X_train,y_train)\n",
    "\n",
    "predictions = lm.predict(X_test)"
   ]
  },
  {
   "cell_type": "code",
   "execution_count": 211,
   "metadata": {},
   "outputs": [
    {
     "name": "stdout",
     "output_type": "stream",
     "text": [
      "[93.69971138183945, 6.935751139020478, 0.36281411083579396, 0.9825321625820731, 0.4096827284605115, 0.8609176572970106, 0.6259966161862173, 0.9934130349707956, 0.9934130349707956, 0.6418300146930508, 0.5694360398465498, 7.667678577853667, 1.0380247689247422, 9.82597949386173, 0.4945656300964366, 1.5671763279068076, 0.6713985935354236, 1.7860882740278792, 0.37693892413022406, 1.6541929668646167, 0.433829079853164, 6.173660881191479]\n"
     ]
    }
   ],
   "source": [
    "rmse=np.sqrt(metrics.mean_squared_error(y_test, predictions))\n",
    "var_rmse.append(rmse)\n",
    "\n",
    "print(var_rmse)"
   ]
  },
  {
   "cell_type": "markdown",
   "metadata": {},
   "source": [
    "## For 'RH_out', applying Linear Reression, predicting values and finding RMSE"
   ]
  },
  {
   "cell_type": "code",
   "execution_count": 212,
   "metadata": {},
   "outputs": [
    {
     "name": "stdout",
     "output_type": "stream",
     "text": [
      "(14803, 25)\n",
      "(14803,)\n",
      "(4932, 25)\n",
      "(4932,)\n"
     ]
    }
   ],
   "source": [
    "X_train = read_trainingdata[['Appliances','lights', 'T1', 'RH_1', 'T2', 'RH_2', 'T3', 'RH_3', 'T4', 'RH_4', 'T5',\n",
    "       'RH_5', 'T6', 'RH_6', 'T7', 'RH_7', 'T8', 'RH_8', 'T9', 'RH_9', 'T_out',\n",
    "       'Press_mm_hg', 'Windspeed', 'Visibility', 'Tdewpoint']]\n",
    "print (X_train.shape)\n",
    "\n",
    "y_train = read_trainingdata['RH_out']\n",
    "print (y_train.shape)\n",
    "\n",
    "\n",
    "\n",
    "X_test = read_testingdata[['Appliances','lights', 'T1', 'RH_1', 'T2', 'RH_2', 'T3', 'RH_3', 'T4', 'RH_4', 'T5',\n",
    "       'RH_5', 'T6', 'RH_6', 'T7', 'RH_7', 'T8', 'RH_8', 'T9', 'RH_9', 'T_out',\n",
    "       'Press_mm_hg', 'Windspeed', 'Visibility', 'Tdewpoint']]\n",
    "print (X_test.shape)\n",
    "\n",
    "y_test = read_testingdata['RH_out']\n",
    "print (y_test.shape)"
   ]
  },
  {
   "cell_type": "code",
   "execution_count": 213,
   "metadata": {},
   "outputs": [],
   "source": [
    "lm = LinearRegression()\n",
    "lm.fit(X_train,y_train)\n",
    "\n",
    "predictions = lm.predict(X_test)"
   ]
  },
  {
   "cell_type": "code",
   "execution_count": 214,
   "metadata": {},
   "outputs": [
    {
     "name": "stdout",
     "output_type": "stream",
     "text": [
      "[93.69971138183945, 6.935751139020478, 0.36281411083579396, 0.9825321625820731, 0.4096827284605115, 0.8609176572970106, 0.6259966161862173, 0.9934130349707956, 0.9934130349707956, 0.6418300146930508, 0.5694360398465498, 7.667678577853667, 1.0380247689247422, 9.82597949386173, 0.4945656300964366, 1.5671763279068076, 0.6713985935354236, 1.7860882740278792, 0.37693892413022406, 1.6541929668646167, 0.433829079853164, 6.173660881191479, 2.107747986818802]\n"
     ]
    }
   ],
   "source": [
    "rmse=np.sqrt(metrics.mean_squared_error(y_test, predictions))\n",
    "var_rmse.append(rmse)\n",
    "\n",
    "print(var_rmse)"
   ]
  },
  {
   "cell_type": "markdown",
   "metadata": {},
   "source": [
    "## For 'Windspeed', applying Linear Reression, predicting values and finding RMSE"
   ]
  },
  {
   "cell_type": "code",
   "execution_count": 215,
   "metadata": {},
   "outputs": [
    {
     "name": "stdout",
     "output_type": "stream",
     "text": [
      "(14803, 25)\n",
      "(14803,)\n",
      "(4932, 25)\n",
      "(4932,)\n"
     ]
    }
   ],
   "source": [
    "X_train = read_trainingdata[['Appliances','lights', 'T1', 'RH_1', 'T2', 'RH_2', 'T3', 'RH_3', 'T4', 'RH_4', 'T5',\n",
    "       'RH_5', 'T6', 'RH_6', 'T7', 'RH_7', 'T8', 'RH_8', 'T9', 'RH_9', 'T_out',\n",
    "       'Press_mm_hg', 'RH_out', 'Visibility', 'Tdewpoint']]\n",
    "print (X_train.shape)\n",
    "\n",
    "y_train = read_trainingdata['Windspeed']\n",
    "print (y_train.shape)\n",
    "\n",
    "\n",
    "\n",
    "X_test = read_testingdata[['Appliances','lights', 'T1', 'RH_1', 'T2', 'RH_2', 'T3', 'RH_3', 'T4', 'RH_4', 'T5',\n",
    "       'RH_5', 'T6', 'RH_6', 'T7', 'RH_7', 'T8', 'RH_8', 'T9', 'RH_9', 'T_out',\n",
    "       'Press_mm_hg', 'RH_out', 'Visibility', 'Tdewpoint']]\n",
    "print (X_test.shape)\n",
    "\n",
    "y_test = read_testingdata['Windspeed']\n",
    "print (y_test.shape)"
   ]
  },
  {
   "cell_type": "code",
   "execution_count": 216,
   "metadata": {},
   "outputs": [],
   "source": [
    "lm = LinearRegression()\n",
    "lm.fit(X_train,y_train)\n",
    "\n",
    "predictions = lm.predict(X_test)"
   ]
  },
  {
   "cell_type": "code",
   "execution_count": 217,
   "metadata": {},
   "outputs": [
    {
     "name": "stdout",
     "output_type": "stream",
     "text": [
      "[93.69971138183945, 6.935751139020478, 0.36281411083579396, 0.9825321625820731, 0.4096827284605115, 0.8609176572970106, 0.6259966161862173, 0.9934130349707956, 0.9934130349707956, 0.6418300146930508, 0.5694360398465498, 7.667678577853667, 1.0380247689247422, 9.82597949386173, 0.4945656300964366, 1.5671763279068076, 0.6713985935354236, 1.7860882740278792, 0.37693892413022406, 1.6541929668646167, 0.433829079853164, 6.173660881191479, 2.107747986818802, 1.951754415603648]\n"
     ]
    }
   ],
   "source": [
    "rmse=np.sqrt(metrics.mean_squared_error(y_test, predictions))\n",
    "var_rmse.append(rmse)\n",
    "\n",
    "print(var_rmse)"
   ]
  },
  {
   "cell_type": "markdown",
   "metadata": {},
   "source": [
    "## For 'Visibility', applying Linear Reression, predicting values and finding RMSE"
   ]
  },
  {
   "cell_type": "code",
   "execution_count": 218,
   "metadata": {},
   "outputs": [
    {
     "name": "stdout",
     "output_type": "stream",
     "text": [
      "(14803, 25)\n",
      "(14803,)\n",
      "(4932, 25)\n",
      "(4932,)\n"
     ]
    }
   ],
   "source": [
    "X_train = read_trainingdata[['Appliances','lights', 'T1', 'RH_1', 'T2', 'RH_2', 'T3', 'RH_3', 'T4', 'RH_4', 'T5',\n",
    "       'RH_5', 'T6', 'RH_6', 'T7', 'RH_7', 'T8', 'RH_8', 'T9', 'RH_9', 'T_out',\n",
    "       'Press_mm_hg', 'RH_out', 'Windspeed', 'Tdewpoint']]\n",
    "print (X_train.shape)\n",
    "\n",
    "y_train = read_trainingdata['Visibility']\n",
    "print (y_train.shape)\n",
    "\n",
    "\n",
    "\n",
    "X_test = read_testingdata[['Appliances','lights', 'T1', 'RH_1', 'T2', 'RH_2', 'T3', 'RH_3', 'T4', 'RH_4', 'T5',\n",
    "       'RH_5', 'T6', 'RH_6', 'T7', 'RH_7', 'T8', 'RH_8', 'T9', 'RH_9', 'T_out',\n",
    "       'Press_mm_hg', 'RH_out', 'Windspeed', 'Tdewpoint']]\n",
    "print (X_test.shape)\n",
    "\n",
    "y_test = read_testingdata['Visibility']\n",
    "print (y_test.shape)"
   ]
  },
  {
   "cell_type": "code",
   "execution_count": 219,
   "metadata": {},
   "outputs": [],
   "source": [
    "lm = LinearRegression()\n",
    "lm.fit(X_train,y_train)\n",
    "\n",
    "predictions = lm.predict(X_test)"
   ]
  },
  {
   "cell_type": "code",
   "execution_count": 220,
   "metadata": {},
   "outputs": [
    {
     "name": "stdout",
     "output_type": "stream",
     "text": [
      "[93.69971138183945, 6.935751139020478, 0.36281411083579396, 0.9825321625820731, 0.4096827284605115, 0.8609176572970106, 0.6259966161862173, 0.9934130349707956, 0.9934130349707956, 0.6418300146930508, 0.5694360398465498, 7.667678577853667, 1.0380247689247422, 9.82597949386173, 0.4945656300964366, 1.5671763279068076, 0.6713985935354236, 1.7860882740278792, 0.37693892413022406, 1.6541929668646167, 0.433829079853164, 6.173660881191479, 2.107747986818802, 1.951754415603648, 11.51113699008296]\n"
     ]
    }
   ],
   "source": [
    "rmse=np.sqrt(metrics.mean_squared_error(y_test, predictions))\n",
    "var_rmse.append(rmse)\n",
    "\n",
    "print(var_rmse)"
   ]
  },
  {
   "cell_type": "markdown",
   "metadata": {},
   "source": [
    "## For 'Tdewpoint', applying Linear Reression, predicting values and finding RMSE"
   ]
  },
  {
   "cell_type": "code",
   "execution_count": 221,
   "metadata": {},
   "outputs": [
    {
     "name": "stdout",
     "output_type": "stream",
     "text": [
      "(14803, 25)\n",
      "(14803,)\n",
      "(4932, 25)\n",
      "(4932,)\n"
     ]
    }
   ],
   "source": [
    "X_train = read_trainingdata[['Appliances','lights', 'T1', 'RH_1', 'T2', 'RH_2', 'T3', 'RH_3', 'T4', 'RH_4', 'T5',\n",
    "       'RH_5', 'T6', 'RH_6', 'T7', 'RH_7', 'T8', 'RH_8', 'T9', 'RH_9', 'T_out',\n",
    "       'Press_mm_hg', 'RH_out', 'Windspeed', 'Visibility']]\n",
    "print (X_train.shape)\n",
    "\n",
    "y_train = read_trainingdata['Tdewpoint']\n",
    "print (y_train.shape)\n",
    "\n",
    "\n",
    "\n",
    "X_test = read_testingdata[['Appliances','lights', 'T1', 'RH_1', 'T2', 'RH_2', 'T3', 'RH_3', 'T4', 'RH_4', 'T5',\n",
    "       'RH_5', 'T6', 'RH_6', 'T7', 'RH_7', 'T8', 'RH_8', 'T9', 'RH_9', 'T_out',\n",
    "       'Press_mm_hg', 'RH_out', 'Windspeed', 'Visibility']]\n",
    "print (X_test.shape)\n",
    "\n",
    "y_test = read_testingdata['Tdewpoint']\n",
    "print (y_test.shape)"
   ]
  },
  {
   "cell_type": "code",
   "execution_count": 222,
   "metadata": {},
   "outputs": [],
   "source": [
    "lm = LinearRegression()\n",
    "lm.fit(X_train,y_train)\n",
    "\n",
    "predictions = lm.predict(X_test)"
   ]
  },
  {
   "cell_type": "code",
   "execution_count": 223,
   "metadata": {},
   "outputs": [
    {
     "name": "stdout",
     "output_type": "stream",
     "text": [
      "[93.69971138183945, 6.935751139020478, 0.36281411083579396, 0.9825321625820731, 0.4096827284605115, 0.8609176572970106, 0.6259966161862173, 0.9934130349707956, 0.9934130349707956, 0.6418300146930508, 0.5694360398465498, 7.667678577853667, 1.0380247689247422, 9.82597949386173, 0.4945656300964366, 1.5671763279068076, 0.6713985935354236, 1.7860882740278792, 0.37693892413022406, 1.6541929668646167, 0.433829079853164, 6.173660881191479, 2.107747986818802, 1.951754415603648, 11.51113699008296, 0.44871625735652826]\n",
      "26\n"
     ]
    }
   ],
   "source": [
    "rmse=np.sqrt(metrics.mean_squared_error(y_test, predictions))\n",
    "var_rmse.append(rmse)\n",
    "\n",
    "print(var_rmse)\n",
    "print(len(var_rmse))"
   ]
  },
  {
   "cell_type": "markdown",
   "metadata": {},
   "source": [
    "#### The above code is printing the RMSE values of all the variables and the total number of variables  "
   ]
  },
  {
   "cell_type": "markdown",
   "metadata": {},
   "source": [
    "# Plot between RMSE and Variables "
   ]
  },
  {
   "cell_type": "code",
   "execution_count": 224,
   "metadata": {},
   "outputs": [
    {
     "data": {
      "text/plain": [
       "Text(0, 0.5, 'RMSE')"
      ]
     },
     "execution_count": 224,
     "metadata": {},
     "output_type": "execute_result"
    },
    {
     "data": {
      "image/png": "[encoded data removed]",
      "text/plain": [
       "<Figure size 432x288 with 1 Axes>"
      ]
     },
     "metadata": {
      "needs_background": "light"
     },
     "output_type": "display_data"
    }
   ],
   "source": [
    "fig, ax = plt.subplots()\n",
    "ax.plot(np.arange(1,27), var_rmse, 'b.-',color='b')\n",
    "plt.xlabel(\"Variables\")\n",
    "plt.ylabel(\"RMSE\")"
   ]
  },
  {
   "cell_type": "markdown",
   "metadata": {},
   "source": [
    "#### The above plot is showing the `line graph` between RMSE and number of Variables"
   ]
  }
 ],
 "metadata": {
  "kernelspec": {
   "display_name": "Python 3",
   "language": "python",
   "name": "python3"
  },
  "language_info": {
   "codemirror_mode": {
    "name": "ipython",
    "version": 3
   },
   "file_extension": ".py",
   "mimetype": "text/x-python",
   "name": "python",
   "nbconvert_exporter": "python",
   "pygments_lexer": "ipython3",
   "version": "3.7.3"
  }
 },
 "nbformat": 4,
 "nbformat_minor": 2
}
